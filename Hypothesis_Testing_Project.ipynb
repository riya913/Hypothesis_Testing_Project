{
 "cells": [
  {
   "cell_type": "markdown",
   "id": "e4927cc4-76db-418d-a73b-f561952c6baf",
   "metadata": {},
   "source": [
    "## IMPORTING LIBRARIES"
   ]
  },
  {
   "cell_type": "code",
   "execution_count": 3,
   "id": "2225510e-0eeb-4972-92a7-07d7818eaf2f",
   "metadata": {},
   "outputs": [],
   "source": [
    "import polars as pl\n",
    "import pandas as pd\n",
    "import matplotlib.pyplot as plt\n",
    "import seaborn as sns\n",
    "import scipy.stats as st\n",
    "import warnings           # for warnings in the code \n",
    "import statsmodels.api as sm\n",
    "warnings.filterwarnings('ignore')   # ignore the warnings"
   ]
  },
  {
   "cell_type": "markdown",
   "id": "e1993995-68ee-4523-81e6-7d73a2efdd25",
   "metadata": {},
   "source": [
    "# Setting Working Directory"
   ]
  },
  {
   "cell_type": "code",
   "execution_count": 6,
   "id": "2b1d4b82-5b33-4eb8-8897-75297d47b5d5",
   "metadata": {},
   "outputs": [],
   "source": [
    "import os\n",
    "os.chdir(\"C:\\\\Users\\\\riya8\\\\Desktop\\\\Hypothesis testing project\")"
   ]
  },
  {
   "cell_type": "markdown",
   "id": "e310403f-34df-4e37-bf20-7c2af03e292e",
   "metadata": {},
   "source": [
    "## LOADING THE DATASET"
   ]
  },
  {
   "cell_type": "code",
   "execution_count": 9,
   "id": "7a3dd35e-4ae6-412f-81bd-cb29709839b6",
   "metadata": {},
   "outputs": [],
   "source": [
    "df = pl.read_csv(\n",
    "    \"2023_Yellow_Taxi_Trip_Data.csv\",\n",
    "    columns = [ \"passenger_count\",\"payment_type\",\"fare_amount\", \"trip_distance\",\"tpep_pickup_datetime\", \"tpep_dropoff_datetime\"],\n",
    "    \n",
    ")"
   ]
  },
  {
   "cell_type": "code",
   "execution_count": 10,
   "id": "646e1672-ac0c-49d6-a9a3-3ac7c43ca667",
   "metadata": {},
   "outputs": [
    {
     "data": {
      "text/html": [
       "<div><style>\n",
       ".dataframe > thead > tr,\n",
       ".dataframe > tbody > tr {\n",
       "  text-align: right;\n",
       "  white-space: pre-wrap;\n",
       "}\n",
       "</style>\n",
       "<small>shape: (38_310_226, 6)</small><table border=\"1\" class=\"dataframe\"><thead><tr><th>passenger_count</th><th>payment_type</th><th>fare_amount</th><th>trip_distance</th><th>tpep_pickup_datetime</th><th>tpep_dropoff_datetime</th></tr><tr><td>i64</td><td>i64</td><td>f64</td><td>f64</td><td>str</td><td>str</td></tr></thead><tbody><tr><td>1</td><td>2</td><td>9.3</td><td>0.97</td><td>&quot;01/01/2023 12:32:10 AM&quot;</td><td>&quot;01/01/2023 12:40:36 AM&quot;</td></tr><tr><td>1</td><td>1</td><td>7.9</td><td>1.1</td><td>&quot;01/01/2023 12:55:08 AM&quot;</td><td>&quot;01/01/2023 01:01:27 AM&quot;</td></tr><tr><td>1</td><td>1</td><td>14.9</td><td>2.51</td><td>&quot;01/01/2023 12:25:04 AM&quot;</td><td>&quot;01/01/2023 12:37:49 AM&quot;</td></tr><tr><td>0</td><td>1</td><td>12.1</td><td>1.9</td><td>&quot;01/01/2023 12:03:48 AM&quot;</td><td>&quot;01/01/2023 12:13:25 AM&quot;</td></tr><tr><td>1</td><td>1</td><td>11.4</td><td>1.43</td><td>&quot;01/01/2023 12:10:29 AM&quot;</td><td>&quot;01/01/2023 12:21:19 AM&quot;</td></tr><tr><td>&hellip;</td><td>&hellip;</td><td>&hellip;</td><td>&hellip;</td><td>&hellip;</td><td>&hellip;</td></tr><tr><td>null</td><td>0</td><td>12.08</td><td>1.34</td><td>&quot;12/31/2023 11:04:34 PM&quot;</td><td>&quot;12/31/2023 11:13:58 PM&quot;</td></tr><tr><td>null</td><td>0</td><td>25.98</td><td>0.0</td><td>&quot;12/31/2023 11:08:15 PM&quot;</td><td>&quot;12/31/2023 11:08:23 PM&quot;</td></tr><tr><td>null</td><td>0</td><td>16.68</td><td>3.71</td><td>&quot;12/31/2023 11:16:15 PM&quot;</td><td>&quot;12/31/2023 11:30:28 PM&quot;</td></tr><tr><td>null</td><td>0</td><td>19.64</td><td>5.2</td><td>&quot;12/31/2023 11:21:58 PM&quot;</td><td>&quot;12/31/2023 11:34:29 PM&quot;</td></tr><tr><td>null</td><td>0</td><td>27.18</td><td>6.81</td><td>&quot;12/31/2023 11:10:47 PM&quot;</td><td>&quot;12/31/2023 11:27:58 PM&quot;</td></tr></tbody></table></div>"
      ],
      "text/plain": [
       "shape: (38_310_226, 6)\n",
       "┌─────────────────┬──────────────┬─────────────┬───────────────┬─────────────────┬─────────────────┐\n",
       "│ passenger_count ┆ payment_type ┆ fare_amount ┆ trip_distance ┆ tpep_pickup_dat ┆ tpep_dropoff_da │\n",
       "│ ---             ┆ ---          ┆ ---         ┆ ---           ┆ etime           ┆ tetime          │\n",
       "│ i64             ┆ i64          ┆ f64         ┆ f64           ┆ ---             ┆ ---             │\n",
       "│                 ┆              ┆             ┆               ┆ str             ┆ str             │\n",
       "╞═════════════════╪══════════════╪═════════════╪═══════════════╪═════════════════╪═════════════════╡\n",
       "│ 1               ┆ 2            ┆ 9.3         ┆ 0.97          ┆ 01/01/2023      ┆ 01/01/2023      │\n",
       "│                 ┆              ┆             ┆               ┆ 12:32:10 AM     ┆ 12:40:36 AM     │\n",
       "│ 1               ┆ 1            ┆ 7.9         ┆ 1.1           ┆ 01/01/2023      ┆ 01/01/2023      │\n",
       "│                 ┆              ┆             ┆               ┆ 12:55:08 AM     ┆ 01:01:27 AM     │\n",
       "│ 1               ┆ 1            ┆ 14.9        ┆ 2.51          ┆ 01/01/2023      ┆ 01/01/2023      │\n",
       "│                 ┆              ┆             ┆               ┆ 12:25:04 AM     ┆ 12:37:49 AM     │\n",
       "│ 0               ┆ 1            ┆ 12.1        ┆ 1.9           ┆ 01/01/2023      ┆ 01/01/2023      │\n",
       "│                 ┆              ┆             ┆               ┆ 12:03:48 AM     ┆ 12:13:25 AM     │\n",
       "│ 1               ┆ 1            ┆ 11.4        ┆ 1.43          ┆ 01/01/2023      ┆ 01/01/2023      │\n",
       "│                 ┆              ┆             ┆               ┆ 12:10:29 AM     ┆ 12:21:19 AM     │\n",
       "│ …               ┆ …            ┆ …           ┆ …             ┆ …               ┆ …               │\n",
       "│ null            ┆ 0            ┆ 12.08       ┆ 1.34          ┆ 12/31/2023      ┆ 12/31/2023      │\n",
       "│                 ┆              ┆             ┆               ┆ 11:04:34 PM     ┆ 11:13:58 PM     │\n",
       "│ null            ┆ 0            ┆ 25.98       ┆ 0.0           ┆ 12/31/2023      ┆ 12/31/2023      │\n",
       "│                 ┆              ┆             ┆               ┆ 11:08:15 PM     ┆ 11:08:23 PM     │\n",
       "│ null            ┆ 0            ┆ 16.68       ┆ 3.71          ┆ 12/31/2023      ┆ 12/31/2023      │\n",
       "│                 ┆              ┆             ┆               ┆ 11:16:15 PM     ┆ 11:30:28 PM     │\n",
       "│ null            ┆ 0            ┆ 19.64       ┆ 5.2           ┆ 12/31/2023      ┆ 12/31/2023      │\n",
       "│                 ┆              ┆             ┆               ┆ 11:21:58 PM     ┆ 11:34:29 PM     │\n",
       "│ null            ┆ 0            ┆ 27.18       ┆ 6.81          ┆ 12/31/2023      ┆ 12/31/2023      │\n",
       "│                 ┆              ┆             ┆               ┆ 11:10:47 PM     ┆ 11:27:58 PM     │\n",
       "└─────────────────┴──────────────┴─────────────┴───────────────┴─────────────────┴─────────────────┘"
      ]
     },
     "execution_count": 10,
     "metadata": {},
     "output_type": "execute_result"
    }
   ],
   "source": [
    "df = df.select( [\"passenger_count\",\"payment_type\",\"fare_amount\", \"trip_distance\",\"tpep_pickup_datetime\", \"tpep_dropoff_datetime\"])\n",
    "df"
   ]
  },
  {
   "cell_type": "markdown",
   "id": "39f96a8f-c5b6-4774-8b7b-00d5474e8d4d",
   "metadata": {},
   "source": [
    "### ***** Counting missing values in the dataframe *****"
   ]
  },
  {
   "cell_type": "code",
   "execution_count": 14,
   "id": "5ecdaa6b-61f3-4824-aaac-6377a0c1669a",
   "metadata": {},
   "outputs": [
    {
     "data": {
      "text/html": [
       "<div><style>\n",
       ".dataframe > thead > tr,\n",
       ".dataframe > tbody > tr {\n",
       "  text-align: right;\n",
       "  white-space: pre-wrap;\n",
       "}\n",
       "</style>\n",
       "<small>shape: (1, 6)</small><table border=\"1\" class=\"dataframe\"><thead><tr><th>passenger_count</th><th>payment_type</th><th>fare_amount</th><th>trip_distance</th><th>tpep_pickup_datetime</th><th>tpep_dropoff_datetime</th></tr><tr><td>u32</td><td>u32</td><td>u32</td><td>u32</td><td>u32</td><td>u32</td></tr></thead><tbody><tr><td>1309356</td><td>0</td><td>0</td><td>0</td><td>0</td><td>0</td></tr></tbody></table></div>"
      ],
      "text/plain": [
       "shape: (1, 6)\n",
       "┌─────────────────┬──────────────┬─────────────┬───────────────┬─────────────────┬─────────────────┐\n",
       "│ passenger_count ┆ payment_type ┆ fare_amount ┆ trip_distance ┆ tpep_pickup_dat ┆ tpep_dropoff_da │\n",
       "│ ---             ┆ ---          ┆ ---         ┆ ---           ┆ etime           ┆ tetime          │\n",
       "│ u32             ┆ u32          ┆ u32         ┆ u32           ┆ ---             ┆ ---             │\n",
       "│                 ┆              ┆             ┆               ┆ u32             ┆ u32             │\n",
       "╞═════════════════╪══════════════╪═════════════╪═══════════════╪═════════════════╪═════════════════╡\n",
       "│ 1309356         ┆ 0            ┆ 0           ┆ 0             ┆ 0               ┆ 0               │\n",
       "└─────────────────┴──────────────┴─────────────┴───────────────┴─────────────────┴─────────────────┘"
      ]
     },
     "execution_count": 14,
     "metadata": {},
     "output_type": "execute_result"
    }
   ],
   "source": [
    "null_counts = df.null_count()  \n",
    "null_counts"
   ]
  },
  {
   "cell_type": "code",
   "execution_count": 16,
   "id": "9146ea0d-890e-46f1-8934-c5e707cd8feb",
   "metadata": {},
   "outputs": [
    {
     "data": {
      "text/plain": [
       "2.6102691224008963e-06"
      ]
     },
     "execution_count": 16,
     "metadata": {},
     "output_type": "execute_result"
    }
   ],
   "source": [
    "per_null_values = len(null_counts) / len(df)\n",
    "per_null_values * 100  # not a lot of null value as compared to the large dataframe."
   ]
  },
  {
   "cell_type": "markdown",
   "id": "f46e487e-e821-4bad-85f9-63ee16cc593e",
   "metadata": {},
   "source": [
    "###   ***** Dropping the null-values *****"
   ]
  },
  {
   "cell_type": "code",
   "execution_count": 19,
   "id": "6a9fcff8-121f-4312-83e5-3f50906c41e3",
   "metadata": {},
   "outputs": [
    {
     "data": {
      "text/html": [
       "<div><style>\n",
       ".dataframe > thead > tr,\n",
       ".dataframe > tbody > tr {\n",
       "  text-align: right;\n",
       "  white-space: pre-wrap;\n",
       "}\n",
       "</style>\n",
       "<small>shape: (1, 6)</small><table border=\"1\" class=\"dataframe\"><thead><tr><th>passenger_count</th><th>payment_type</th><th>fare_amount</th><th>trip_distance</th><th>tpep_pickup_datetime</th><th>tpep_dropoff_datetime</th></tr><tr><td>u32</td><td>u32</td><td>u32</td><td>u32</td><td>u32</td><td>u32</td></tr></thead><tbody><tr><td>0</td><td>0</td><td>0</td><td>0</td><td>0</td><td>0</td></tr></tbody></table></div>"
      ],
      "text/plain": [
       "shape: (1, 6)\n",
       "┌─────────────────┬──────────────┬─────────────┬───────────────┬─────────────────┬─────────────────┐\n",
       "│ passenger_count ┆ payment_type ┆ fare_amount ┆ trip_distance ┆ tpep_pickup_dat ┆ tpep_dropoff_da │\n",
       "│ ---             ┆ ---          ┆ ---         ┆ ---           ┆ etime           ┆ tetime          │\n",
       "│ u32             ┆ u32          ┆ u32         ┆ u32           ┆ ---             ┆ ---             │\n",
       "│                 ┆              ┆             ┆               ┆ u32             ┆ u32             │\n",
       "╞═════════════════╪══════════════╪═════════════╪═══════════════╪═════════════════╪═════════════════╡\n",
       "│ 0               ┆ 0            ┆ 0           ┆ 0             ┆ 0               ┆ 0               │\n",
       "└─────────────────┴──────────────┴─────────────┴───────────────┴─────────────────┴─────────────────┘"
      ]
     },
     "execution_count": 19,
     "metadata": {},
     "output_type": "execute_result"
    }
   ],
   "source": [
    "df = df.drop_nulls()\n",
    "null_counts = df.null_count()\n",
    "null_counts\n",
    "# no missing values anymore"
   ]
  },
  {
   "cell_type": "code",
   "execution_count": 21,
   "id": "d038d762-0ac3-447a-a864-37c0da275ead",
   "metadata": {},
   "outputs": [
    {
     "data": {
      "text/plain": [
       "(37000870, 6)"
      ]
     },
     "execution_count": 21,
     "metadata": {},
     "output_type": "execute_result"
    }
   ],
   "source": [
    "df.shape # around 13lacs null values dropped"
   ]
  },
  {
   "cell_type": "code",
   "execution_count": 23,
   "id": "55601fea-f1c2-4a5c-be5f-2dd3900d7efa",
   "metadata": {},
   "outputs": [
    {
     "data": {
      "text/plain": [
       "[Int64, Int64, Float64, Float64, String, String]"
      ]
     },
     "execution_count": 23,
     "metadata": {},
     "output_type": "execute_result"
    }
   ],
   "source": [
    "df.dtypes  #we will change the data types of pickup datetime and dropoff datetime\n",
    "           # from object data type to pandas datetime datatype"
   ]
  },
  {
   "cell_type": "code",
   "execution_count": 25,
   "id": "1b64535d-9257-46f6-a6d1-40211b665a46",
   "metadata": {},
   "outputs": [
    {
     "data": {
      "text/plain": [
       "polars.dataframe.frame.DataFrame"
      ]
     },
     "execution_count": 25,
     "metadata": {},
     "output_type": "execute_result"
    }
   ],
   "source": [
    "type(df)"
   ]
  },
  {
   "cell_type": "code",
   "execution_count": 27,
   "id": "6eff89a7-e4b9-4ece-870a-c88bd15e5782",
   "metadata": {},
   "outputs": [],
   "source": [
    "df = df.with_columns(\n",
    "    pl.col(\"tpep_pickup_datetime\")\n",
    "    .str.strptime(pl.Datetime, format=\"%m/%d/%Y %I:%M:%S %p\")  # Correctly parsing datetime\n",
    ")\n",
    "\n",
    "df = df.with_columns(\n",
    "    pl.col(\"tpep_dropoff_datetime\")\n",
    "    .str.strptime(pl.Datetime, format=\"%m/%d/%Y %I:%M:%S %p\")  # Correctly parsing datetime\n",
    ")\n"
   ]
  },
  {
   "cell_type": "code",
   "execution_count": 28,
   "id": "9387d8cf-c9b2-4e42-a30a-33b5cfc2c435",
   "metadata": {},
   "outputs": [
    {
     "data": {
      "text/plain": [
       "[Int64,\n",
       " Int64,\n",
       " Float64,\n",
       " Float64,\n",
       " Datetime(time_unit='us', time_zone=None),\n",
       " Datetime(time_unit='us', time_zone=None)]"
      ]
     },
     "execution_count": 28,
     "metadata": {},
     "output_type": "execute_result"
    }
   ],
   "source": [
    "df.dtypes"
   ]
  },
  {
   "cell_type": "code",
   "execution_count": 31,
   "id": "3e310fce-3af0-44d6-bc1c-af87db3e323a",
   "metadata": {},
   "outputs": [],
   "source": [
    "df = df.to_pandas()"
   ]
  },
  {
   "cell_type": "code",
   "execution_count": 32,
   "id": "00b8146e-6cae-4426-b892-88e19a502042",
   "metadata": {},
   "outputs": [
    {
     "data": {
      "text/plain": [
       "pandas.core.frame.DataFrame"
      ]
     },
     "execution_count": 32,
     "metadata": {},
     "output_type": "execute_result"
    }
   ],
   "source": [
    "type(df)"
   ]
  },
  {
   "cell_type": "code",
   "execution_count": 35,
   "id": "6fffe5b2-34c8-4ea1-9b3c-4fc5092f46fe",
   "metadata": {},
   "outputs": [
    {
     "data": {
      "text/plain": [
       "passenger_count                   int64\n",
       "payment_type                      int64\n",
       "fare_amount                     float64\n",
       "trip_distance                   float64\n",
       "tpep_pickup_datetime     datetime64[us]\n",
       "tpep_dropoff_datetime    datetime64[us]\n",
       "dtype: object"
      ]
     },
     "execution_count": 35,
     "metadata": {},
     "output_type": "execute_result"
    }
   ],
   "source": [
    "df.dtypes"
   ]
  },
  {
   "cell_type": "code",
   "execution_count": 37,
   "id": "1ee9b048-055b-48fe-b60c-9115a0ff7931",
   "metadata": {},
   "outputs": [],
   "source": [
    "df['duration'] = df[\"tpep_dropoff_datetime\"] - df[\"tpep_pickup_datetime\"] "
   ]
  },
  {
   "cell_type": "code",
   "execution_count": 39,
   "id": "50fae156-e6ea-4e01-beb8-86feea5a638a",
   "metadata": {},
   "outputs": [
    {
     "data": {
      "text/html": [
       "<div>\n",
       "<style scoped>\n",
       "    .dataframe tbody tr th:only-of-type {\n",
       "        vertical-align: middle;\n",
       "    }\n",
       "\n",
       "    .dataframe tbody tr th {\n",
       "        vertical-align: top;\n",
       "    }\n",
       "\n",
       "    .dataframe thead th {\n",
       "        text-align: right;\n",
       "    }\n",
       "</style>\n",
       "<table border=\"1\" class=\"dataframe\">\n",
       "  <thead>\n",
       "    <tr style=\"text-align: right;\">\n",
       "      <th></th>\n",
       "      <th>passenger_count</th>\n",
       "      <th>payment_type</th>\n",
       "      <th>fare_amount</th>\n",
       "      <th>trip_distance</th>\n",
       "      <th>tpep_pickup_datetime</th>\n",
       "      <th>tpep_dropoff_datetime</th>\n",
       "      <th>duration</th>\n",
       "    </tr>\n",
       "  </thead>\n",
       "  <tbody>\n",
       "    <tr>\n",
       "      <th>0</th>\n",
       "      <td>1</td>\n",
       "      <td>2</td>\n",
       "      <td>9.3</td>\n",
       "      <td>0.97</td>\n",
       "      <td>2023-01-01 00:32:10</td>\n",
       "      <td>2023-01-01 00:40:36</td>\n",
       "      <td>0 days 00:08:26</td>\n",
       "    </tr>\n",
       "    <tr>\n",
       "      <th>1</th>\n",
       "      <td>1</td>\n",
       "      <td>1</td>\n",
       "      <td>7.9</td>\n",
       "      <td>1.10</td>\n",
       "      <td>2023-01-01 00:55:08</td>\n",
       "      <td>2023-01-01 01:01:27</td>\n",
       "      <td>0 days 00:06:19</td>\n",
       "    </tr>\n",
       "    <tr>\n",
       "      <th>2</th>\n",
       "      <td>1</td>\n",
       "      <td>1</td>\n",
       "      <td>14.9</td>\n",
       "      <td>2.51</td>\n",
       "      <td>2023-01-01 00:25:04</td>\n",
       "      <td>2023-01-01 00:37:49</td>\n",
       "      <td>0 days 00:12:45</td>\n",
       "    </tr>\n",
       "    <tr>\n",
       "      <th>3</th>\n",
       "      <td>0</td>\n",
       "      <td>1</td>\n",
       "      <td>12.1</td>\n",
       "      <td>1.90</td>\n",
       "      <td>2023-01-01 00:03:48</td>\n",
       "      <td>2023-01-01 00:13:25</td>\n",
       "      <td>0 days 00:09:37</td>\n",
       "    </tr>\n",
       "    <tr>\n",
       "      <th>4</th>\n",
       "      <td>1</td>\n",
       "      <td>1</td>\n",
       "      <td>11.4</td>\n",
       "      <td>1.43</td>\n",
       "      <td>2023-01-01 00:10:29</td>\n",
       "      <td>2023-01-01 00:21:19</td>\n",
       "      <td>0 days 00:10:50</td>\n",
       "    </tr>\n",
       "    <tr>\n",
       "      <th>...</th>\n",
       "      <td>...</td>\n",
       "      <td>...</td>\n",
       "      <td>...</td>\n",
       "      <td>...</td>\n",
       "      <td>...</td>\n",
       "      <td>...</td>\n",
       "      <td>...</td>\n",
       "    </tr>\n",
       "    <tr>\n",
       "      <th>37000865</th>\n",
       "      <td>1</td>\n",
       "      <td>1</td>\n",
       "      <td>17.0</td>\n",
       "      <td>2.60</td>\n",
       "      <td>2023-12-31 23:03:46</td>\n",
       "      <td>2023-12-31 23:21:54</td>\n",
       "      <td>0 days 00:18:08</td>\n",
       "    </tr>\n",
       "    <tr>\n",
       "      <th>37000866</th>\n",
       "      <td>1</td>\n",
       "      <td>1</td>\n",
       "      <td>5.1</td>\n",
       "      <td>0.60</td>\n",
       "      <td>2023-12-31 23:23:34</td>\n",
       "      <td>2023-12-31 23:26:17</td>\n",
       "      <td>0 days 00:02:43</td>\n",
       "    </tr>\n",
       "    <tr>\n",
       "      <th>37000867</th>\n",
       "      <td>1</td>\n",
       "      <td>1</td>\n",
       "      <td>19.8</td>\n",
       "      <td>3.80</td>\n",
       "      <td>2023-12-31 23:34:58</td>\n",
       "      <td>2023-12-31 23:53:01</td>\n",
       "      <td>0 days 00:18:03</td>\n",
       "    </tr>\n",
       "    <tr>\n",
       "      <th>37000868</th>\n",
       "      <td>2</td>\n",
       "      <td>1</td>\n",
       "      <td>14.9</td>\n",
       "      <td>3.10</td>\n",
       "      <td>2023-12-31 23:12:45</td>\n",
       "      <td>2023-12-31 23:23:15</td>\n",
       "      <td>0 days 00:10:30</td>\n",
       "    </tr>\n",
       "    <tr>\n",
       "      <th>37000869</th>\n",
       "      <td>2</td>\n",
       "      <td>1</td>\n",
       "      <td>70.0</td>\n",
       "      <td>17.41</td>\n",
       "      <td>2023-12-31 23:13:36</td>\n",
       "      <td>2023-12-31 23:52:31</td>\n",
       "      <td>0 days 00:38:55</td>\n",
       "    </tr>\n",
       "  </tbody>\n",
       "</table>\n",
       "<p>37000870 rows × 7 columns</p>\n",
       "</div>"
      ],
      "text/plain": [
       "          passenger_count  payment_type  fare_amount  trip_distance  \\\n",
       "0                       1             2          9.3           0.97   \n",
       "1                       1             1          7.9           1.10   \n",
       "2                       1             1         14.9           2.51   \n",
       "3                       0             1         12.1           1.90   \n",
       "4                       1             1         11.4           1.43   \n",
       "...                   ...           ...          ...            ...   \n",
       "37000865                1             1         17.0           2.60   \n",
       "37000866                1             1          5.1           0.60   \n",
       "37000867                1             1         19.8           3.80   \n",
       "37000868                2             1         14.9           3.10   \n",
       "37000869                2             1         70.0          17.41   \n",
       "\n",
       "         tpep_pickup_datetime tpep_dropoff_datetime        duration  \n",
       "0         2023-01-01 00:32:10   2023-01-01 00:40:36 0 days 00:08:26  \n",
       "1         2023-01-01 00:55:08   2023-01-01 01:01:27 0 days 00:06:19  \n",
       "2         2023-01-01 00:25:04   2023-01-01 00:37:49 0 days 00:12:45  \n",
       "3         2023-01-01 00:03:48   2023-01-01 00:13:25 0 days 00:09:37  \n",
       "4         2023-01-01 00:10:29   2023-01-01 00:21:19 0 days 00:10:50  \n",
       "...                       ...                   ...             ...  \n",
       "37000865  2023-12-31 23:03:46   2023-12-31 23:21:54 0 days 00:18:08  \n",
       "37000866  2023-12-31 23:23:34   2023-12-31 23:26:17 0 days 00:02:43  \n",
       "37000867  2023-12-31 23:34:58   2023-12-31 23:53:01 0 days 00:18:03  \n",
       "37000868  2023-12-31 23:12:45   2023-12-31 23:23:15 0 days 00:10:30  \n",
       "37000869  2023-12-31 23:13:36   2023-12-31 23:52:31 0 days 00:38:55  \n",
       "\n",
       "[37000870 rows x 7 columns]"
      ]
     },
     "execution_count": 39,
     "metadata": {},
     "output_type": "execute_result"
    }
   ],
   "source": [
    "df"
   ]
  },
  {
   "cell_type": "code",
   "execution_count": 41,
   "id": "87c4dd68-55ce-4ec2-bf4d-684da368e2bd",
   "metadata": {},
   "outputs": [
    {
     "data": {
      "text/plain": [
       "passenger_count                    int64\n",
       "payment_type                       int64\n",
       "fare_amount                      float64\n",
       "trip_distance                    float64\n",
       "tpep_pickup_datetime      datetime64[us]\n",
       "tpep_dropoff_datetime     datetime64[us]\n",
       "duration                 timedelta64[us]\n",
       "dtype: object"
      ]
     },
     "execution_count": 41,
     "metadata": {},
     "output_type": "execute_result"
    }
   ],
   "source": [
    "df.dtypes\n",
    "# passenger_count and payment_type are in the required data type"
   ]
  },
  {
   "cell_type": "code",
   "execution_count": 43,
   "id": "fec22735-ce0f-4018-8cc6-77618920ab77",
   "metadata": {},
   "outputs": [],
   "source": [
    "df = pl.from_pandas(df)"
   ]
  },
  {
   "cell_type": "code",
   "execution_count": 45,
   "id": "cf89d465-2efe-4a13-9726-d8d274982e06",
   "metadata": {},
   "outputs": [
    {
     "data": {
      "text/plain": [
       "polars.dataframe.frame.DataFrame"
      ]
     },
     "execution_count": 45,
     "metadata": {},
     "output_type": "execute_result"
    }
   ],
   "source": [
    "type(df)"
   ]
  },
  {
   "cell_type": "code",
   "execution_count": 47,
   "id": "98769981-c68d-4efc-8e73-7869a9501a66",
   "metadata": {},
   "outputs": [
    {
     "data": {
      "text/html": [
       "<div><style>\n",
       ".dataframe > thead > tr,\n",
       ".dataframe > tbody > tr {\n",
       "  text-align: right;\n",
       "  white-space: pre-wrap;\n",
       "}\n",
       "</style>\n",
       "<small>shape: (3_690, 7)</small><table border=\"1\" class=\"dataframe\"><thead><tr><th>passenger_count</th><th>payment_type</th><th>fare_amount</th><th>trip_distance</th><th>tpep_pickup_datetime</th><th>tpep_dropoff_datetime</th><th>duration</th></tr><tr><td>i64</td><td>i64</td><td>f64</td><td>f64</td><td>datetime[μs]</td><td>datetime[μs]</td><td>duration[μs]</td></tr></thead><tbody><tr><td>3</td><td>2</td><td>0.0</td><td>0.02</td><td>2023-01-02 04:23:28</td><td>2023-01-02 04:23:58</td><td>30s</td></tr><tr><td>3</td><td>2</td><td>0.0</td><td>0.02</td><td>2023-01-02 04:23:28</td><td>2023-01-02 04:23:58</td><td>30s</td></tr><tr><td>1</td><td>2</td><td>0.0</td><td>17.07</td><td>2023-01-02 05:12:19</td><td>2023-01-02 05:41:45</td><td>29m 26s</td></tr><tr><td>1</td><td>2</td><td>0.0</td><td>17.07</td><td>2023-01-02 05:12:19</td><td>2023-01-02 05:41:45</td><td>29m 26s</td></tr><tr><td>1</td><td>2</td><td>0.0</td><td>16.71</td><td>2023-01-02 06:32:52</td><td>2023-01-02 07:05:44</td><td>32m 52s</td></tr><tr><td>&hellip;</td><td>&hellip;</td><td>&hellip;</td><td>&hellip;</td><td>&hellip;</td><td>&hellip;</td><td>&hellip;</td></tr><tr><td>2</td><td>2</td><td>0.0</td><td>0.15</td><td>2023-12-31 09:42:36</td><td>2023-12-31 09:43:56</td><td>1m 20s</td></tr><tr><td>3</td><td>2</td><td>0.0</td><td>0.0</td><td>2023-12-31 17:43:24</td><td>2023-12-31 17:43:33</td><td>9s</td></tr><tr><td>3</td><td>2</td><td>0.0</td><td>0.0</td><td>2023-12-31 17:43:24</td><td>2023-12-31 17:43:33</td><td>9s</td></tr><tr><td>2</td><td>2</td><td>0.0</td><td>0.0</td><td>2023-12-31 22:10:19</td><td>2023-12-31 22:10:34</td><td>15s</td></tr><tr><td>2</td><td>2</td><td>0.0</td><td>0.0</td><td>2023-12-31 22:10:19</td><td>2023-12-31 22:10:34</td><td>15s</td></tr></tbody></table></div>"
      ],
      "text/plain": [
       "shape: (3_690, 7)\n",
       "┌──────────────┬─────────────┬─────────────┬─────────────┬─────────────┬─────────────┬─────────────┐\n",
       "│ passenger_co ┆ payment_typ ┆ fare_amount ┆ trip_distan ┆ tpep_pickup ┆ tpep_dropof ┆ duration    │\n",
       "│ unt          ┆ e           ┆ ---         ┆ ce          ┆ _datetime   ┆ f_datetime  ┆ ---         │\n",
       "│ ---          ┆ ---         ┆ f64         ┆ ---         ┆ ---         ┆ ---         ┆ duration[μs │\n",
       "│ i64          ┆ i64         ┆             ┆ f64         ┆ datetime[μs ┆ datetime[μs ┆ ]           │\n",
       "│              ┆             ┆             ┆             ┆ ]           ┆ ]           ┆             │\n",
       "╞══════════════╪═════════════╪═════════════╪═════════════╪═════════════╪═════════════╪═════════════╡\n",
       "│ 3            ┆ 2           ┆ 0.0         ┆ 0.02        ┆ 2023-01-02  ┆ 2023-01-02  ┆ 30s         │\n",
       "│              ┆             ┆             ┆             ┆ 04:23:28    ┆ 04:23:58    ┆             │\n",
       "│ 3            ┆ 2           ┆ 0.0         ┆ 0.02        ┆ 2023-01-02  ┆ 2023-01-02  ┆ 30s         │\n",
       "│              ┆             ┆             ┆             ┆ 04:23:28    ┆ 04:23:58    ┆             │\n",
       "│ 1            ┆ 2           ┆ 0.0         ┆ 17.07       ┆ 2023-01-02  ┆ 2023-01-02  ┆ 29m 26s     │\n",
       "│              ┆             ┆             ┆             ┆ 05:12:19    ┆ 05:41:45    ┆             │\n",
       "│ 1            ┆ 2           ┆ 0.0         ┆ 17.07       ┆ 2023-01-02  ┆ 2023-01-02  ┆ 29m 26s     │\n",
       "│              ┆             ┆             ┆             ┆ 05:12:19    ┆ 05:41:45    ┆             │\n",
       "│ 1            ┆ 2           ┆ 0.0         ┆ 16.71       ┆ 2023-01-02  ┆ 2023-01-02  ┆ 32m 52s     │\n",
       "│              ┆             ┆             ┆             ┆ 06:32:52    ┆ 07:05:44    ┆             │\n",
       "│ …            ┆ …           ┆ …           ┆ …           ┆ …           ┆ …           ┆ …           │\n",
       "│ 2            ┆ 2           ┆ 0.0         ┆ 0.15        ┆ 2023-12-31  ┆ 2023-12-31  ┆ 1m 20s      │\n",
       "│              ┆             ┆             ┆             ┆ 09:42:36    ┆ 09:43:56    ┆             │\n",
       "│ 3            ┆ 2           ┆ 0.0         ┆ 0.0         ┆ 2023-12-31  ┆ 2023-12-31  ┆ 9s          │\n",
       "│              ┆             ┆             ┆             ┆ 17:43:24    ┆ 17:43:33    ┆             │\n",
       "│ 3            ┆ 2           ┆ 0.0         ┆ 0.0         ┆ 2023-12-31  ┆ 2023-12-31  ┆ 9s          │\n",
       "│              ┆             ┆             ┆             ┆ 17:43:24    ┆ 17:43:33    ┆             │\n",
       "│ 2            ┆ 2           ┆ 0.0         ┆ 0.0         ┆ 2023-12-31  ┆ 2023-12-31  ┆ 15s         │\n",
       "│              ┆             ┆             ┆             ┆ 22:10:19    ┆ 22:10:34    ┆             │\n",
       "│ 2            ┆ 2           ┆ 0.0         ┆ 0.0         ┆ 2023-12-31  ┆ 2023-12-31  ┆ 15s         │\n",
       "│              ┆             ┆             ┆             ┆ 22:10:19    ┆ 22:10:34    ┆             │\n",
       "└──────────────┴─────────────┴─────────────┴─────────────┴─────────────┴─────────────┴─────────────┘"
      ]
     },
     "execution_count": 47,
     "metadata": {},
     "output_type": "execute_result"
    }
   ],
   "source": [
    "df.filter(df.is_duplicated())"
   ]
  },
  {
   "cell_type": "code",
   "execution_count": 48,
   "id": "691760da-4033-43c4-8032-9abf67af2615",
   "metadata": {},
   "outputs": [],
   "source": [
    "df = df.unique()   # dropping all the duplicate values "
   ]
  },
  {
   "cell_type": "code",
   "execution_count": 50,
   "id": "2d482b4d-6f74-4c74-b635-9bf90f9888bf",
   "metadata": {},
   "outputs": [
    {
     "data": {
      "text/html": [
       "<div><style>\n",
       ".dataframe > thead > tr,\n",
       ".dataframe > tbody > tr {\n",
       "  text-align: right;\n",
       "  white-space: pre-wrap;\n",
       "}\n",
       "</style>\n",
       "<small>shape: (36_999_025, 7)</small><table border=\"1\" class=\"dataframe\"><thead><tr><th>passenger_count</th><th>payment_type</th><th>fare_amount</th><th>trip_distance</th><th>tpep_pickup_datetime</th><th>tpep_dropoff_datetime</th><th>duration</th></tr><tr><td>i64</td><td>i64</td><td>f64</td><td>f64</td><td>datetime[μs]</td><td>datetime[μs]</td><td>duration[μs]</td></tr></thead><tbody><tr><td>1</td><td>4</td><td>3.0</td><td>0.0</td><td>2023-03-02 20:21:51</td><td>2023-03-02 20:22:05</td><td>14s</td></tr><tr><td>2</td><td>1</td><td>12.1</td><td>1.51</td><td>2023-08-11 20:31:54</td><td>2023-08-11 20:42:53</td><td>10m 59s</td></tr><tr><td>1</td><td>1</td><td>5.8</td><td>0.4</td><td>2023-07-27 17:04:02</td><td>2023-07-27 17:09:03</td><td>5m 1s</td></tr><tr><td>1</td><td>1</td><td>48.5</td><td>11.52</td><td>2023-08-13 17:21:12</td><td>2023-08-13 17:53:17</td><td>32m 5s</td></tr><tr><td>1</td><td>1</td><td>11.4</td><td>1.6</td><td>2023-09-15 14:05:30</td><td>2023-09-15 14:17:52</td><td>12m 22s</td></tr><tr><td>&hellip;</td><td>&hellip;</td><td>&hellip;</td><td>&hellip;</td><td>&hellip;</td><td>&hellip;</td><td>&hellip;</td></tr><tr><td>1</td><td>1</td><td>37.3</td><td>8.73</td><td>2023-06-08 15:34:01</td><td>2023-06-08 15:59:57</td><td>25m 56s</td></tr><tr><td>1</td><td>2</td><td>19.1</td><td>3.33</td><td>2023-02-23 18:10:09</td><td>2023-02-23 18:27:20</td><td>17m 11s</td></tr><tr><td>4</td><td>2</td><td>105.0</td><td>21.53</td><td>2023-08-24 18:47:10</td><td>2023-08-24 20:18:57</td><td>1h 31m 47s</td></tr><tr><td>1</td><td>2</td><td>8.6</td><td>1.0</td><td>2023-04-12 14:57:46</td><td>2023-04-12 15:04:24</td><td>6m 38s</td></tr><tr><td>2</td><td>1</td><td>9.3</td><td>1.41</td><td>2023-03-05 20:10:00</td><td>2023-03-05 20:17:24</td><td>7m 24s</td></tr></tbody></table></div>"
      ],
      "text/plain": [
       "shape: (36_999_025, 7)\n",
       "┌──────────────┬─────────────┬─────────────┬─────────────┬─────────────┬─────────────┬─────────────┐\n",
       "│ passenger_co ┆ payment_typ ┆ fare_amount ┆ trip_distan ┆ tpep_pickup ┆ tpep_dropof ┆ duration    │\n",
       "│ unt          ┆ e           ┆ ---         ┆ ce          ┆ _datetime   ┆ f_datetime  ┆ ---         │\n",
       "│ ---          ┆ ---         ┆ f64         ┆ ---         ┆ ---         ┆ ---         ┆ duration[μs │\n",
       "│ i64          ┆ i64         ┆             ┆ f64         ┆ datetime[μs ┆ datetime[μs ┆ ]           │\n",
       "│              ┆             ┆             ┆             ┆ ]           ┆ ]           ┆             │\n",
       "╞══════════════╪═════════════╪═════════════╪═════════════╪═════════════╪═════════════╪═════════════╡\n",
       "│ 1            ┆ 4           ┆ 3.0         ┆ 0.0         ┆ 2023-03-02  ┆ 2023-03-02  ┆ 14s         │\n",
       "│              ┆             ┆             ┆             ┆ 20:21:51    ┆ 20:22:05    ┆             │\n",
       "│ 2            ┆ 1           ┆ 12.1        ┆ 1.51        ┆ 2023-08-11  ┆ 2023-08-11  ┆ 10m 59s     │\n",
       "│              ┆             ┆             ┆             ┆ 20:31:54    ┆ 20:42:53    ┆             │\n",
       "│ 1            ┆ 1           ┆ 5.8         ┆ 0.4         ┆ 2023-07-27  ┆ 2023-07-27  ┆ 5m 1s       │\n",
       "│              ┆             ┆             ┆             ┆ 17:04:02    ┆ 17:09:03    ┆             │\n",
       "│ 1            ┆ 1           ┆ 48.5        ┆ 11.52       ┆ 2023-08-13  ┆ 2023-08-13  ┆ 32m 5s      │\n",
       "│              ┆             ┆             ┆             ┆ 17:21:12    ┆ 17:53:17    ┆             │\n",
       "│ 1            ┆ 1           ┆ 11.4        ┆ 1.6         ┆ 2023-09-15  ┆ 2023-09-15  ┆ 12m 22s     │\n",
       "│              ┆             ┆             ┆             ┆ 14:05:30    ┆ 14:17:52    ┆             │\n",
       "│ …            ┆ …           ┆ …           ┆ …           ┆ …           ┆ …           ┆ …           │\n",
       "│ 1            ┆ 1           ┆ 37.3        ┆ 8.73        ┆ 2023-06-08  ┆ 2023-06-08  ┆ 25m 56s     │\n",
       "│              ┆             ┆             ┆             ┆ 15:34:01    ┆ 15:59:57    ┆             │\n",
       "│ 1            ┆ 2           ┆ 19.1        ┆ 3.33        ┆ 2023-02-23  ┆ 2023-02-23  ┆ 17m 11s     │\n",
       "│              ┆             ┆             ┆             ┆ 18:10:09    ┆ 18:27:20    ┆             │\n",
       "│ 4            ┆ 2           ┆ 105.0       ┆ 21.53       ┆ 2023-08-24  ┆ 2023-08-24  ┆ 1h 31m 47s  │\n",
       "│              ┆             ┆             ┆             ┆ 18:47:10    ┆ 20:18:57    ┆             │\n",
       "│ 1            ┆ 2           ┆ 8.6         ┆ 1.0         ┆ 2023-04-12  ┆ 2023-04-12  ┆ 6m 38s      │\n",
       "│              ┆             ┆             ┆             ┆ 14:57:46    ┆ 15:04:24    ┆             │\n",
       "│ 2            ┆ 1           ┆ 9.3         ┆ 1.41        ┆ 2023-03-05  ┆ 2023-03-05  ┆ 7m 24s      │\n",
       "│              ┆             ┆             ┆             ┆ 20:10:00    ┆ 20:17:24    ┆             │\n",
       "└──────────────┴─────────────┴─────────────┴─────────────┴─────────────┴─────────────┴─────────────┘"
      ]
     },
     "execution_count": 50,
     "metadata": {},
     "output_type": "execute_result"
    }
   ],
   "source": [
    "df"
   ]
  },
  {
   "cell_type": "code",
   "execution_count": 53,
   "id": "6af7a9dd-0416-4921-8e11-b8f0883823fc",
   "metadata": {},
   "outputs": [
    {
     "data": {
      "text/html": [
       "<div><style>\n",
       ".dataframe > thead > tr,\n",
       ".dataframe > tbody > tr {\n",
       "  text-align: right;\n",
       "  white-space: pre-wrap;\n",
       "}\n",
       "</style>\n",
       "<small>shape: (10, 2)</small><table border=\"1\" class=\"dataframe\"><thead><tr><th>passenger_count</th><th>proportion</th></tr><tr><td>i64</td><td>f64</td></tr></thead><tbody><tr><td>4</td><td>0.02135</td></tr><tr><td>3</td><td>0.037694</td></tr><tr><td>2</td><td>0.151592</td></tr><tr><td>9</td><td>0.000001</td></tr><tr><td>1</td><td>0.751969</td></tr><tr><td>5</td><td>0.01306</td></tr><tr><td>6</td><td>0.008567</td></tr><tr><td>8</td><td>0.000007</td></tr><tr><td>0</td><td>0.015757</td></tr><tr><td>7</td><td>0.000003</td></tr></tbody></table></div>"
      ],
      "text/plain": [
       "shape: (10, 2)\n",
       "┌─────────────────┬────────────┐\n",
       "│ passenger_count ┆ proportion │\n",
       "│ ---             ┆ ---        │\n",
       "│ i64             ┆ f64        │\n",
       "╞═════════════════╪════════════╡\n",
       "│ 4               ┆ 0.02135    │\n",
       "│ 3               ┆ 0.037694   │\n",
       "│ 2               ┆ 0.151592   │\n",
       "│ 9               ┆ 0.000001   │\n",
       "│ 1               ┆ 0.751969   │\n",
       "│ 5               ┆ 0.01306    │\n",
       "│ 6               ┆ 0.008567   │\n",
       "│ 8               ┆ 0.000007   │\n",
       "│ 0               ┆ 0.015757   │\n",
       "│ 7               ┆ 0.000003   │\n",
       "└─────────────────┴────────────┘"
      ]
     },
     "execution_count": 53,
     "metadata": {},
     "output_type": "execute_result"
    }
   ],
   "source": [
    "df[\"passenger_count\"].value_counts(normalize = True) \n",
    "# very small float values mean they do not contribute much to our data set , they are outliers.\n",
    "# Zero passengers are not possible at all, as well as we will remove very large number of passengers \n",
    "# sitting in the cab because such large numbers of passengers are not really possible, also their \n",
    "# proportions are small so we remove them.\n",
    "\n",
    "# drop passenger_count = 9,0,7,8,"
   ]
  },
  {
   "cell_type": "code",
   "execution_count": 55,
   "id": "788507d9-6184-4b93-86e5-487e53078977",
   "metadata": {},
   "outputs": [
    {
     "data": {
      "text/html": [
       "<div><style>\n",
       ".dataframe > thead > tr,\n",
       ".dataframe > tbody > tr {\n",
       "  text-align: right;\n",
       "  white-space: pre-wrap;\n",
       "}\n",
       "</style>\n",
       "<small>shape: (5, 2)</small><table border=\"1\" class=\"dataframe\"><thead><tr><th>payment_type</th><th>proportion</th></tr><tr><td>i64</td><td>f64</td></tr></thead><tbody><tr><td>1</td><td>0.806964</td></tr><tr><td>3</td><td>0.00651</td></tr><tr><td>2</td><td>0.173067</td></tr><tr><td>4</td><td>0.013459</td></tr><tr><td>5</td><td>5.4055e-8</td></tr></tbody></table></div>"
      ],
      "text/plain": [
       "shape: (5, 2)\n",
       "┌──────────────┬────────────┐\n",
       "│ payment_type ┆ proportion │\n",
       "│ ---          ┆ ---        │\n",
       "│ i64          ┆ f64        │\n",
       "╞══════════════╪════════════╡\n",
       "│ 1            ┆ 0.806964   │\n",
       "│ 3            ┆ 0.00651    │\n",
       "│ 2            ┆ 0.173067   │\n",
       "│ 4            ┆ 0.013459   │\n",
       "│ 5            ┆ 5.4055e-8  │\n",
       "└──────────────┴────────────┘"
      ]
     },
     "execution_count": 55,
     "metadata": {},
     "output_type": "execute_result"
    }
   ],
   "source": [
    "df[\"payment_type\"].value_counts(normalize = True) \n",
    "# drop 3,5"
   ]
  },
  {
   "cell_type": "code",
   "execution_count": 57,
   "id": "bb549b78-55a8-4eee-88eb-d945caa24d99",
   "metadata": {},
   "outputs": [],
   "source": [
    "df = df.filter(\n",
    "    pl.col(\"passenger_count\").is_in([1, 2, 3, 4, 5, 6])\n",
    ")\n"
   ]
  },
  {
   "cell_type": "code",
   "execution_count": 59,
   "id": "e5545200-73cd-4f05-941b-3b2d94adbdfe",
   "metadata": {},
   "outputs": [
    {
     "data": {
      "text/html": [
       "<div><style>\n",
       ".dataframe > thead > tr,\n",
       ".dataframe > tbody > tr {\n",
       "  text-align: right;\n",
       "  white-space: pre-wrap;\n",
       "}\n",
       "</style>\n",
       "<small>shape: (36_415_618, 7)</small><table border=\"1\" class=\"dataframe\"><thead><tr><th>passenger_count</th><th>payment_type</th><th>fare_amount</th><th>trip_distance</th><th>tpep_pickup_datetime</th><th>tpep_dropoff_datetime</th><th>duration</th></tr><tr><td>i64</td><td>i64</td><td>f64</td><td>f64</td><td>datetime[μs]</td><td>datetime[μs]</td><td>duration[μs]</td></tr></thead><tbody><tr><td>1</td><td>4</td><td>3.0</td><td>0.0</td><td>2023-03-02 20:21:51</td><td>2023-03-02 20:22:05</td><td>14s</td></tr><tr><td>2</td><td>1</td><td>12.1</td><td>1.51</td><td>2023-08-11 20:31:54</td><td>2023-08-11 20:42:53</td><td>10m 59s</td></tr><tr><td>1</td><td>1</td><td>5.8</td><td>0.4</td><td>2023-07-27 17:04:02</td><td>2023-07-27 17:09:03</td><td>5m 1s</td></tr><tr><td>1</td><td>1</td><td>48.5</td><td>11.52</td><td>2023-08-13 17:21:12</td><td>2023-08-13 17:53:17</td><td>32m 5s</td></tr><tr><td>1</td><td>1</td><td>11.4</td><td>1.6</td><td>2023-09-15 14:05:30</td><td>2023-09-15 14:17:52</td><td>12m 22s</td></tr><tr><td>&hellip;</td><td>&hellip;</td><td>&hellip;</td><td>&hellip;</td><td>&hellip;</td><td>&hellip;</td><td>&hellip;</td></tr><tr><td>1</td><td>1</td><td>37.3</td><td>8.73</td><td>2023-06-08 15:34:01</td><td>2023-06-08 15:59:57</td><td>25m 56s</td></tr><tr><td>1</td><td>2</td><td>19.1</td><td>3.33</td><td>2023-02-23 18:10:09</td><td>2023-02-23 18:27:20</td><td>17m 11s</td></tr><tr><td>4</td><td>2</td><td>105.0</td><td>21.53</td><td>2023-08-24 18:47:10</td><td>2023-08-24 20:18:57</td><td>1h 31m 47s</td></tr><tr><td>1</td><td>2</td><td>8.6</td><td>1.0</td><td>2023-04-12 14:57:46</td><td>2023-04-12 15:04:24</td><td>6m 38s</td></tr><tr><td>2</td><td>1</td><td>9.3</td><td>1.41</td><td>2023-03-05 20:10:00</td><td>2023-03-05 20:17:24</td><td>7m 24s</td></tr></tbody></table></div>"
      ],
      "text/plain": [
       "shape: (36_415_618, 7)\n",
       "┌──────────────┬─────────────┬─────────────┬─────────────┬─────────────┬─────────────┬─────────────┐\n",
       "│ passenger_co ┆ payment_typ ┆ fare_amount ┆ trip_distan ┆ tpep_pickup ┆ tpep_dropof ┆ duration    │\n",
       "│ unt          ┆ e           ┆ ---         ┆ ce          ┆ _datetime   ┆ f_datetime  ┆ ---         │\n",
       "│ ---          ┆ ---         ┆ f64         ┆ ---         ┆ ---         ┆ ---         ┆ duration[μs │\n",
       "│ i64          ┆ i64         ┆             ┆ f64         ┆ datetime[μs ┆ datetime[μs ┆ ]           │\n",
       "│              ┆             ┆             ┆             ┆ ]           ┆ ]           ┆             │\n",
       "╞══════════════╪═════════════╪═════════════╪═════════════╪═════════════╪═════════════╪═════════════╡\n",
       "│ 1            ┆ 4           ┆ 3.0         ┆ 0.0         ┆ 2023-03-02  ┆ 2023-03-02  ┆ 14s         │\n",
       "│              ┆             ┆             ┆             ┆ 20:21:51    ┆ 20:22:05    ┆             │\n",
       "│ 2            ┆ 1           ┆ 12.1        ┆ 1.51        ┆ 2023-08-11  ┆ 2023-08-11  ┆ 10m 59s     │\n",
       "│              ┆             ┆             ┆             ┆ 20:31:54    ┆ 20:42:53    ┆             │\n",
       "│ 1            ┆ 1           ┆ 5.8         ┆ 0.4         ┆ 2023-07-27  ┆ 2023-07-27  ┆ 5m 1s       │\n",
       "│              ┆             ┆             ┆             ┆ 17:04:02    ┆ 17:09:03    ┆             │\n",
       "│ 1            ┆ 1           ┆ 48.5        ┆ 11.52       ┆ 2023-08-13  ┆ 2023-08-13  ┆ 32m 5s      │\n",
       "│              ┆             ┆             ┆             ┆ 17:21:12    ┆ 17:53:17    ┆             │\n",
       "│ 1            ┆ 1           ┆ 11.4        ┆ 1.6         ┆ 2023-09-15  ┆ 2023-09-15  ┆ 12m 22s     │\n",
       "│              ┆             ┆             ┆             ┆ 14:05:30    ┆ 14:17:52    ┆             │\n",
       "│ …            ┆ …           ┆ …           ┆ …           ┆ …           ┆ …           ┆ …           │\n",
       "│ 1            ┆ 1           ┆ 37.3        ┆ 8.73        ┆ 2023-06-08  ┆ 2023-06-08  ┆ 25m 56s     │\n",
       "│              ┆             ┆             ┆             ┆ 15:34:01    ┆ 15:59:57    ┆             │\n",
       "│ 1            ┆ 2           ┆ 19.1        ┆ 3.33        ┆ 2023-02-23  ┆ 2023-02-23  ┆ 17m 11s     │\n",
       "│              ┆             ┆             ┆             ┆ 18:10:09    ┆ 18:27:20    ┆             │\n",
       "│ 4            ┆ 2           ┆ 105.0       ┆ 21.53       ┆ 2023-08-24  ┆ 2023-08-24  ┆ 1h 31m 47s  │\n",
       "│              ┆             ┆             ┆             ┆ 18:47:10    ┆ 20:18:57    ┆             │\n",
       "│ 1            ┆ 2           ┆ 8.6         ┆ 1.0         ┆ 2023-04-12  ┆ 2023-04-12  ┆ 6m 38s      │\n",
       "│              ┆             ┆             ┆             ┆ 14:57:46    ┆ 15:04:24    ┆             │\n",
       "│ 2            ┆ 1           ┆ 9.3         ┆ 1.41        ┆ 2023-03-05  ┆ 2023-03-05  ┆ 7m 24s      │\n",
       "│              ┆             ┆             ┆             ┆ 20:10:00    ┆ 20:17:24    ┆             │\n",
       "└──────────────┴─────────────┴─────────────┴─────────────┴─────────────┴─────────────┴─────────────┘"
      ]
     },
     "execution_count": 59,
     "metadata": {},
     "output_type": "execute_result"
    }
   ],
   "source": [
    "df"
   ]
  },
  {
   "cell_type": "code",
   "execution_count": 61,
   "id": "70c386fc-4a1c-4d8c-a924-aa7cf2e5e36b",
   "metadata": {},
   "outputs": [
    {
     "data": {
      "text/html": [
       "<div><style>\n",
       ".dataframe > thead > tr,\n",
       ".dataframe > tbody > tr {\n",
       "  text-align: right;\n",
       "  white-space: pre-wrap;\n",
       "}\n",
       "</style>\n",
       "<small>shape: (6, 2)</small><table border=\"1\" class=\"dataframe\"><thead><tr><th>passenger_count</th><th>proportion</th></tr><tr><td>i64</td><td>f64</td></tr></thead><tbody><tr><td>2</td><td>0.154021</td></tr><tr><td>4</td><td>0.021692</td></tr><tr><td>6</td><td>0.008704</td></tr><tr><td>1</td><td>0.764016</td></tr><tr><td>3</td><td>0.038297</td></tr><tr><td>5</td><td>0.013269</td></tr></tbody></table></div>"
      ],
      "text/plain": [
       "shape: (6, 2)\n",
       "┌─────────────────┬────────────┐\n",
       "│ passenger_count ┆ proportion │\n",
       "│ ---             ┆ ---        │\n",
       "│ i64             ┆ f64        │\n",
       "╞═════════════════╪════════════╡\n",
       "│ 2               ┆ 0.154021   │\n",
       "│ 4               ┆ 0.021692   │\n",
       "│ 6               ┆ 0.008704   │\n",
       "│ 1               ┆ 0.764016   │\n",
       "│ 3               ┆ 0.038297   │\n",
       "│ 5               ┆ 0.013269   │\n",
       "└─────────────────┴────────────┘"
      ]
     },
     "execution_count": 61,
     "metadata": {},
     "output_type": "execute_result"
    }
   ],
   "source": [
    "df[\"passenger_count\"].value_counts(normalize = True) "
   ]
  },
  {
   "cell_type": "code",
   "execution_count": 63,
   "id": "039397a4-aab2-4326-a0b0-7f8fbcc325bb",
   "metadata": {},
   "outputs": [],
   "source": [
    "df = df.filter(\n",
    "    pl.col(\"payment_type\") < 3)"
   ]
  },
  {
   "cell_type": "code",
   "execution_count": 65,
   "id": "029d8751-758f-4f48-a01d-68f152fb2890",
   "metadata": {},
   "outputs": [
    {
     "data": {
      "text/html": [
       "<div><style>\n",
       ".dataframe > thead > tr,\n",
       ".dataframe > tbody > tr {\n",
       "  text-align: right;\n",
       "  white-space: pre-wrap;\n",
       "}\n",
       "</style>\n",
       "<small>shape: (2, 2)</small><table border=\"1\" class=\"dataframe\"><thead><tr><th>payment_type</th><th>proportion</th></tr><tr><td>i64</td><td>f64</td></tr></thead><tbody><tr><td>2</td><td>0.17635</td></tr><tr><td>1</td><td>0.82365</td></tr></tbody></table></div>"
      ],
      "text/plain": [
       "shape: (2, 2)\n",
       "┌──────────────┬────────────┐\n",
       "│ payment_type ┆ proportion │\n",
       "│ ---          ┆ ---        │\n",
       "│ i64          ┆ f64        │\n",
       "╞══════════════╪════════════╡\n",
       "│ 2            ┆ 0.17635    │\n",
       "│ 1            ┆ 0.82365    │\n",
       "└──────────────┴────────────┘"
      ]
     },
     "execution_count": 65,
     "metadata": {},
     "output_type": "execute_result"
    }
   ],
   "source": [
    "df[\"payment_type\"].value_counts(normalize = True) "
   ]
  },
  {
   "cell_type": "code",
   "execution_count": 67,
   "id": "23b0b51f-d843-4d3f-9cc7-b6d5af9cb7f6",
   "metadata": {},
   "outputs": [
    {
     "data": {
      "text/plain": [
       "(35694344, 7)"
      ]
     },
     "execution_count": 67,
     "metadata": {},
     "output_type": "execute_result"
    }
   ],
   "source": [
    "df.shape"
   ]
  },
  {
   "cell_type": "code",
   "execution_count": 69,
   "id": "406cf0a5-dd0f-4e7f-84de-f0abced524e1",
   "metadata": {},
   "outputs": [],
   "source": [
    "df = df.filter(\n",
    "    (pl.col(\"passenger_count\") > 0) & \n",
    "    (pl.col(\"passenger_count\") < 6)\n",
    ")\n"
   ]
  },
  {
   "cell_type": "code",
   "execution_count": 70,
   "id": "97c8b007-5d9e-46a8-b62e-4ac0e7dc9c2d",
   "metadata": {},
   "outputs": [
    {
     "data": {
      "text/plain": [
       "(35378869, 7)"
      ]
     },
     "execution_count": 70,
     "metadata": {},
     "output_type": "execute_result"
    }
   ],
   "source": [
    "df.shape"
   ]
  },
  {
   "cell_type": "code",
   "execution_count": 73,
   "id": "8c6d01dc-7493-4996-a1e1-a496b2e05c22",
   "metadata": {},
   "outputs": [],
   "source": [
    "df = df.with_columns(\n",
    "    pl.col(\"payment_type\")\n",
    "    .cast(pl.Utf8)  # convert to string\n",
    "    .replace([\"1\", \"2\"], [\"Card\", \"Cash\"])  # replace string versions of values\n",
    "    .alias(\"payment_type\")\n",
    ")\n"
   ]
  },
  {
   "cell_type": "code",
   "execution_count": 74,
   "id": "8a63ec74-4222-4f4f-8f8d-b640e875253b",
   "metadata": {},
   "outputs": [
    {
     "data": {
      "text/html": [
       "<div><style>\n",
       ".dataframe > thead > tr,\n",
       ".dataframe > tbody > tr {\n",
       "  text-align: right;\n",
       "  white-space: pre-wrap;\n",
       "}\n",
       "</style>\n",
       "<small>shape: (35_378_869, 7)</small><table border=\"1\" class=\"dataframe\"><thead><tr><th>passenger_count</th><th>payment_type</th><th>fare_amount</th><th>trip_distance</th><th>tpep_pickup_datetime</th><th>tpep_dropoff_datetime</th><th>duration</th></tr><tr><td>i64</td><td>str</td><td>f64</td><td>f64</td><td>datetime[μs]</td><td>datetime[μs]</td><td>duration[μs]</td></tr></thead><tbody><tr><td>2</td><td>&quot;Card&quot;</td><td>12.1</td><td>1.51</td><td>2023-08-11 20:31:54</td><td>2023-08-11 20:42:53</td><td>10m 59s</td></tr><tr><td>1</td><td>&quot;Card&quot;</td><td>5.8</td><td>0.4</td><td>2023-07-27 17:04:02</td><td>2023-07-27 17:09:03</td><td>5m 1s</td></tr><tr><td>1</td><td>&quot;Card&quot;</td><td>48.5</td><td>11.52</td><td>2023-08-13 17:21:12</td><td>2023-08-13 17:53:17</td><td>32m 5s</td></tr><tr><td>1</td><td>&quot;Card&quot;</td><td>11.4</td><td>1.6</td><td>2023-09-15 14:05:30</td><td>2023-09-15 14:17:52</td><td>12m 22s</td></tr><tr><td>1</td><td>&quot;Card&quot;</td><td>30.5</td><td>6.9</td><td>2023-06-20 07:22:54</td><td>2023-06-20 08:45:21</td><td>1h 22m 27s</td></tr><tr><td>&hellip;</td><td>&hellip;</td><td>&hellip;</td><td>&hellip;</td><td>&hellip;</td><td>&hellip;</td><td>&hellip;</td></tr><tr><td>1</td><td>&quot;Card&quot;</td><td>37.3</td><td>8.73</td><td>2023-06-08 15:34:01</td><td>2023-06-08 15:59:57</td><td>25m 56s</td></tr><tr><td>1</td><td>&quot;Cash&quot;</td><td>19.1</td><td>3.33</td><td>2023-02-23 18:10:09</td><td>2023-02-23 18:27:20</td><td>17m 11s</td></tr><tr><td>4</td><td>&quot;Cash&quot;</td><td>105.0</td><td>21.53</td><td>2023-08-24 18:47:10</td><td>2023-08-24 20:18:57</td><td>1h 31m 47s</td></tr><tr><td>1</td><td>&quot;Cash&quot;</td><td>8.6</td><td>1.0</td><td>2023-04-12 14:57:46</td><td>2023-04-12 15:04:24</td><td>6m 38s</td></tr><tr><td>2</td><td>&quot;Card&quot;</td><td>9.3</td><td>1.41</td><td>2023-03-05 20:10:00</td><td>2023-03-05 20:17:24</td><td>7m 24s</td></tr></tbody></table></div>"
      ],
      "text/plain": [
       "shape: (35_378_869, 7)\n",
       "┌──────────────┬─────────────┬─────────────┬─────────────┬─────────────┬─────────────┬─────────────┐\n",
       "│ passenger_co ┆ payment_typ ┆ fare_amount ┆ trip_distan ┆ tpep_pickup ┆ tpep_dropof ┆ duration    │\n",
       "│ unt          ┆ e           ┆ ---         ┆ ce          ┆ _datetime   ┆ f_datetime  ┆ ---         │\n",
       "│ ---          ┆ ---         ┆ f64         ┆ ---         ┆ ---         ┆ ---         ┆ duration[μs │\n",
       "│ i64          ┆ str         ┆             ┆ f64         ┆ datetime[μs ┆ datetime[μs ┆ ]           │\n",
       "│              ┆             ┆             ┆             ┆ ]           ┆ ]           ┆             │\n",
       "╞══════════════╪═════════════╪═════════════╪═════════════╪═════════════╪═════════════╪═════════════╡\n",
       "│ 2            ┆ Card        ┆ 12.1        ┆ 1.51        ┆ 2023-08-11  ┆ 2023-08-11  ┆ 10m 59s     │\n",
       "│              ┆             ┆             ┆             ┆ 20:31:54    ┆ 20:42:53    ┆             │\n",
       "│ 1            ┆ Card        ┆ 5.8         ┆ 0.4         ┆ 2023-07-27  ┆ 2023-07-27  ┆ 5m 1s       │\n",
       "│              ┆             ┆             ┆             ┆ 17:04:02    ┆ 17:09:03    ┆             │\n",
       "│ 1            ┆ Card        ┆ 48.5        ┆ 11.52       ┆ 2023-08-13  ┆ 2023-08-13  ┆ 32m 5s      │\n",
       "│              ┆             ┆             ┆             ┆ 17:21:12    ┆ 17:53:17    ┆             │\n",
       "│ 1            ┆ Card        ┆ 11.4        ┆ 1.6         ┆ 2023-09-15  ┆ 2023-09-15  ┆ 12m 22s     │\n",
       "│              ┆             ┆             ┆             ┆ 14:05:30    ┆ 14:17:52    ┆             │\n",
       "│ 1            ┆ Card        ┆ 30.5        ┆ 6.9         ┆ 2023-06-20  ┆ 2023-06-20  ┆ 1h 22m 27s  │\n",
       "│              ┆             ┆             ┆             ┆ 07:22:54    ┆ 08:45:21    ┆             │\n",
       "│ …            ┆ …           ┆ …           ┆ …           ┆ …           ┆ …           ┆ …           │\n",
       "│ 1            ┆ Card        ┆ 37.3        ┆ 8.73        ┆ 2023-06-08  ┆ 2023-06-08  ┆ 25m 56s     │\n",
       "│              ┆             ┆             ┆             ┆ 15:34:01    ┆ 15:59:57    ┆             │\n",
       "│ 1            ┆ Cash        ┆ 19.1        ┆ 3.33        ┆ 2023-02-23  ┆ 2023-02-23  ┆ 17m 11s     │\n",
       "│              ┆             ┆             ┆             ┆ 18:10:09    ┆ 18:27:20    ┆             │\n",
       "│ 4            ┆ Cash        ┆ 105.0       ┆ 21.53       ┆ 2023-08-24  ┆ 2023-08-24  ┆ 1h 31m 47s  │\n",
       "│              ┆             ┆             ┆             ┆ 18:47:10    ┆ 20:18:57    ┆             │\n",
       "│ 1            ┆ Cash        ┆ 8.6         ┆ 1.0         ┆ 2023-04-12  ┆ 2023-04-12  ┆ 6m 38s      │\n",
       "│              ┆             ┆             ┆             ┆ 14:57:46    ┆ 15:04:24    ┆             │\n",
       "│ 2            ┆ Card        ┆ 9.3         ┆ 1.41        ┆ 2023-03-05  ┆ 2023-03-05  ┆ 7m 24s      │\n",
       "│              ┆             ┆             ┆             ┆ 20:10:00    ┆ 20:17:24    ┆             │\n",
       "└──────────────┴─────────────┴─────────────┴─────────────┴─────────────┴─────────────┴─────────────┘"
      ]
     },
     "execution_count": 74,
     "metadata": {},
     "output_type": "execute_result"
    }
   ],
   "source": [
    "df"
   ]
  },
  {
   "cell_type": "code",
   "execution_count": 75,
   "id": "c5a98ecb-134e-4c97-9801-31b0af365134",
   "metadata": {},
   "outputs": [
    {
     "data": {
      "text/html": [
       "<div><style>\n",
       ".dataframe > thead > tr,\n",
       ".dataframe > tbody > tr {\n",
       "  text-align: right;\n",
       "  white-space: pre-wrap;\n",
       "}\n",
       "</style>\n",
       "<small>shape: (1, 4)</small><table border=\"1\" class=\"dataframe\"><thead><tr><th>passenger_min</th><th>fare_min</th><th>trip_dist_min</th><th>duration_min</th></tr><tr><td>i64</td><td>f64</td><td>f64</td><td>duration[μs]</td></tr></thead><tbody><tr><td>1</td><td>-800.0</td><td>0.0</td><td>-19616d -20h -58m -28s</td></tr></tbody></table></div>"
      ],
      "text/plain": [
       "shape: (1, 4)\n",
       "┌───────────────┬──────────┬───────────────┬────────────────────────┐\n",
       "│ passenger_min ┆ fare_min ┆ trip_dist_min ┆ duration_min           │\n",
       "│ ---           ┆ ---      ┆ ---           ┆ ---                    │\n",
       "│ i64           ┆ f64      ┆ f64           ┆ duration[μs]           │\n",
       "╞═══════════════╪══════════╪═══════════════╪════════════════════════╡\n",
       "│ 1             ┆ -800.0   ┆ 0.0           ┆ -19616d -20h -58m -28s │\n",
       "└───────────────┴──────────┴───────────────┴────────────────────────┘"
      ]
     },
     "execution_count": 75,
     "metadata": {},
     "output_type": "execute_result"
    }
   ],
   "source": [
    "df.select([\n",
    "    pl.col(\"passenger_count\").min().alias(\"passenger_min\"),\n",
    "    pl.col(\"fare_amount\").min().alias(\"fare_min\"),\n",
    "    pl.col(\"trip_distance\").min().alias(\"trip_dist_min\"),\n",
    "    pl.col(\"duration\").min().alias(\"duration_min\")\n",
    "])\n"
   ]
  },
  {
   "cell_type": "code",
   "execution_count": 76,
   "id": "acd922b1-18c8-4806-95e9-30adba4570fd",
   "metadata": {},
   "outputs": [],
   "source": [
    "# this is absurd because the duration and fare amounts can't be min.\n",
    "# as well as the trip distance is also zero"
   ]
  },
  {
   "cell_type": "code",
   "execution_count": 77,
   "id": "ab081003-453c-4690-91e5-12b2e64f903b",
   "metadata": {},
   "outputs": [],
   "source": [
    "df = df.filter(\n",
    "    (pl.col(\"passenger_count\") > 0) & \n",
    "    (pl.col(\"fare_amount\") > 0) &\n",
    "    (pl.col(\"trip_distance\") > 0) &\n",
    "    (pl.col(\"duration\") > 0)\n",
    ")\n"
   ]
  },
  {
   "cell_type": "code",
   "execution_count": 78,
   "id": "87d637ab-c2bf-4414-b158-470a29b4911c",
   "metadata": {},
   "outputs": [
    {
     "data": {
      "text/html": [
       "<div><style>\n",
       ".dataframe > thead > tr,\n",
       ".dataframe > tbody > tr {\n",
       "  text-align: right;\n",
       "  white-space: pre-wrap;\n",
       "}\n",
       "</style>\n",
       "<small>shape: (34_927_173, 7)</small><table border=\"1\" class=\"dataframe\"><thead><tr><th>passenger_count</th><th>payment_type</th><th>fare_amount</th><th>trip_distance</th><th>tpep_pickup_datetime</th><th>tpep_dropoff_datetime</th><th>duration</th></tr><tr><td>i64</td><td>str</td><td>f64</td><td>f64</td><td>datetime[μs]</td><td>datetime[μs]</td><td>duration[μs]</td></tr></thead><tbody><tr><td>2</td><td>&quot;Card&quot;</td><td>12.1</td><td>1.51</td><td>2023-08-11 20:31:54</td><td>2023-08-11 20:42:53</td><td>10m 59s</td></tr><tr><td>1</td><td>&quot;Card&quot;</td><td>5.8</td><td>0.4</td><td>2023-07-27 17:04:02</td><td>2023-07-27 17:09:03</td><td>5m 1s</td></tr><tr><td>1</td><td>&quot;Card&quot;</td><td>48.5</td><td>11.52</td><td>2023-08-13 17:21:12</td><td>2023-08-13 17:53:17</td><td>32m 5s</td></tr><tr><td>1</td><td>&quot;Card&quot;</td><td>11.4</td><td>1.6</td><td>2023-09-15 14:05:30</td><td>2023-09-15 14:17:52</td><td>12m 22s</td></tr><tr><td>1</td><td>&quot;Card&quot;</td><td>30.5</td><td>6.9</td><td>2023-06-20 07:22:54</td><td>2023-06-20 08:45:21</td><td>1h 22m 27s</td></tr><tr><td>&hellip;</td><td>&hellip;</td><td>&hellip;</td><td>&hellip;</td><td>&hellip;</td><td>&hellip;</td><td>&hellip;</td></tr><tr><td>1</td><td>&quot;Card&quot;</td><td>37.3</td><td>8.73</td><td>2023-06-08 15:34:01</td><td>2023-06-08 15:59:57</td><td>25m 56s</td></tr><tr><td>1</td><td>&quot;Cash&quot;</td><td>19.1</td><td>3.33</td><td>2023-02-23 18:10:09</td><td>2023-02-23 18:27:20</td><td>17m 11s</td></tr><tr><td>4</td><td>&quot;Cash&quot;</td><td>105.0</td><td>21.53</td><td>2023-08-24 18:47:10</td><td>2023-08-24 20:18:57</td><td>1h 31m 47s</td></tr><tr><td>1</td><td>&quot;Cash&quot;</td><td>8.6</td><td>1.0</td><td>2023-04-12 14:57:46</td><td>2023-04-12 15:04:24</td><td>6m 38s</td></tr><tr><td>2</td><td>&quot;Card&quot;</td><td>9.3</td><td>1.41</td><td>2023-03-05 20:10:00</td><td>2023-03-05 20:17:24</td><td>7m 24s</td></tr></tbody></table></div>"
      ],
      "text/plain": [
       "shape: (34_927_173, 7)\n",
       "┌──────────────┬─────────────┬─────────────┬─────────────┬─────────────┬─────────────┬─────────────┐\n",
       "│ passenger_co ┆ payment_typ ┆ fare_amount ┆ trip_distan ┆ tpep_pickup ┆ tpep_dropof ┆ duration    │\n",
       "│ unt          ┆ e           ┆ ---         ┆ ce          ┆ _datetime   ┆ f_datetime  ┆ ---         │\n",
       "│ ---          ┆ ---         ┆ f64         ┆ ---         ┆ ---         ┆ ---         ┆ duration[μs │\n",
       "│ i64          ┆ str         ┆             ┆ f64         ┆ datetime[μs ┆ datetime[μs ┆ ]           │\n",
       "│              ┆             ┆             ┆             ┆ ]           ┆ ]           ┆             │\n",
       "╞══════════════╪═════════════╪═════════════╪═════════════╪═════════════╪═════════════╪═════════════╡\n",
       "│ 2            ┆ Card        ┆ 12.1        ┆ 1.51        ┆ 2023-08-11  ┆ 2023-08-11  ┆ 10m 59s     │\n",
       "│              ┆             ┆             ┆             ┆ 20:31:54    ┆ 20:42:53    ┆             │\n",
       "│ 1            ┆ Card        ┆ 5.8         ┆ 0.4         ┆ 2023-07-27  ┆ 2023-07-27  ┆ 5m 1s       │\n",
       "│              ┆             ┆             ┆             ┆ 17:04:02    ┆ 17:09:03    ┆             │\n",
       "│ 1            ┆ Card        ┆ 48.5        ┆ 11.52       ┆ 2023-08-13  ┆ 2023-08-13  ┆ 32m 5s      │\n",
       "│              ┆             ┆             ┆             ┆ 17:21:12    ┆ 17:53:17    ┆             │\n",
       "│ 1            ┆ Card        ┆ 11.4        ┆ 1.6         ┆ 2023-09-15  ┆ 2023-09-15  ┆ 12m 22s     │\n",
       "│              ┆             ┆             ┆             ┆ 14:05:30    ┆ 14:17:52    ┆             │\n",
       "│ 1            ┆ Card        ┆ 30.5        ┆ 6.9         ┆ 2023-06-20  ┆ 2023-06-20  ┆ 1h 22m 27s  │\n",
       "│              ┆             ┆             ┆             ┆ 07:22:54    ┆ 08:45:21    ┆             │\n",
       "│ …            ┆ …           ┆ …           ┆ …           ┆ …           ┆ …           ┆ …           │\n",
       "│ 1            ┆ Card        ┆ 37.3        ┆ 8.73        ┆ 2023-06-08  ┆ 2023-06-08  ┆ 25m 56s     │\n",
       "│              ┆             ┆             ┆             ┆ 15:34:01    ┆ 15:59:57    ┆             │\n",
       "│ 1            ┆ Cash        ┆ 19.1        ┆ 3.33        ┆ 2023-02-23  ┆ 2023-02-23  ┆ 17m 11s     │\n",
       "│              ┆             ┆             ┆             ┆ 18:10:09    ┆ 18:27:20    ┆             │\n",
       "│ 4            ┆ Cash        ┆ 105.0       ┆ 21.53       ┆ 2023-08-24  ┆ 2023-08-24  ┆ 1h 31m 47s  │\n",
       "│              ┆             ┆             ┆             ┆ 18:47:10    ┆ 20:18:57    ┆             │\n",
       "│ 1            ┆ Cash        ┆ 8.6         ┆ 1.0         ┆ 2023-04-12  ┆ 2023-04-12  ┆ 6m 38s      │\n",
       "│              ┆             ┆             ┆             ┆ 14:57:46    ┆ 15:04:24    ┆             │\n",
       "│ 2            ┆ Card        ┆ 9.3         ┆ 1.41        ┆ 2023-03-05  ┆ 2023-03-05  ┆ 7m 24s      │\n",
       "│              ┆             ┆             ┆             ┆ 20:10:00    ┆ 20:17:24    ┆             │\n",
       "└──────────────┴─────────────┴─────────────┴─────────────┴─────────────┴─────────────┴─────────────┘"
      ]
     },
     "execution_count": 78,
     "metadata": {},
     "output_type": "execute_result"
    }
   ],
   "source": [
    "df"
   ]
  },
  {
   "cell_type": "code",
   "execution_count": 85,
   "id": "814aef82-0462-4711-8b04-66ffaecef753",
   "metadata": {},
   "outputs": [
    {
     "data": {
      "text/html": [
       "<div><style>\n",
       ".dataframe > thead > tr,\n",
       ".dataframe > tbody > tr {\n",
       "  text-align: right;\n",
       "  white-space: pre-wrap;\n",
       "}\n",
       "</style>\n",
       "<small>shape: (1, 4)</small><table border=\"1\" class=\"dataframe\"><thead><tr><th>passenger_min</th><th>fare_min</th><th>trip_dist_min</th><th>duration_min</th></tr><tr><td>i64</td><td>f64</td><td>f64</td><td>duration[μs]</td></tr></thead><tbody><tr><td>1</td><td>0.01</td><td>0.01</td><td>1s</td></tr></tbody></table></div>"
      ],
      "text/plain": [
       "shape: (1, 4)\n",
       "┌───────────────┬──────────┬───────────────┬──────────────┐\n",
       "│ passenger_min ┆ fare_min ┆ trip_dist_min ┆ duration_min │\n",
       "│ ---           ┆ ---      ┆ ---           ┆ ---          │\n",
       "│ i64           ┆ f64      ┆ f64           ┆ duration[μs] │\n",
       "╞═══════════════╪══════════╪═══════════════╪══════════════╡\n",
       "│ 1             ┆ 0.01     ┆ 0.01          ┆ 1s           │\n",
       "└───────────────┴──────────┴───────────────┴──────────────┘"
      ]
     },
     "execution_count": 85,
     "metadata": {},
     "output_type": "execute_result"
    }
   ],
   "source": [
    "df.select([\n",
    "    pl.col(\"passenger_count\").min().alias(\"passenger_min\"),\n",
    "    pl.col(\"fare_amount\").min().alias(\"fare_min\"),\n",
    "    pl.col(\"trip_distance\").min().alias(\"trip_dist_min\"),\n",
    "    pl.col(\"duration\").min().alias(\"duration_min\")\n",
    "])                     # now the data has no negative values"
   ]
  },
  {
   "cell_type": "code",
   "execution_count": 87,
   "id": "439e3e69-a8e4-4296-8f77-cd3332c8d7e3",
   "metadata": {},
   "outputs": [
    {
     "data": {
      "text/plain": [
       "(34927173, 7)"
      ]
     },
     "execution_count": 87,
     "metadata": {},
     "output_type": "execute_result"
    }
   ],
   "source": [
    "df.shape"
   ]
  },
  {
   "cell_type": "code",
   "execution_count": 89,
   "id": "a0208795-1b27-44c2-ad89-f4773364df07",
   "metadata": {},
   "outputs": [],
   "source": [
    "df = df.to_pandas()"
   ]
  },
  {
   "cell_type": "code",
   "execution_count": 90,
   "id": "088ceb38-55c0-4795-b360-7bbd59602baf",
   "metadata": {},
   "outputs": [],
   "source": [
    "df = df[[\"passenger_count\", \"payment_type\", \"fare_amount\", \"trip_distance\", \"duration\"]]\n"
   ]
  },
  {
   "cell_type": "markdown",
   "id": "8be22d5b-7ce5-40e7-b9d6-02758e058f80",
   "metadata": {},
   "source": [
    "# Exploratory Data Analysis"
   ]
  },
  {
   "cell_type": "code",
   "execution_count": 92,
   "id": "2260e507-f081-4e0b-9c26-e1497796af3d",
   "metadata": {},
   "outputs": [
    {
     "data": {
      "text/plain": [
       "{'whiskers': [<matplotlib.lines.Line2D at 0x2816bc922d0>,\n",
       "  <matplotlib.lines.Line2D at 0x2816bc93e30>],\n",
       " 'caps': [<matplotlib.lines.Line2D at 0x28101dd7b30>,\n",
       "  <matplotlib.lines.Line2D at 0x2817fe6da60>],\n",
       " 'boxes': [<matplotlib.lines.Line2D at 0x2816bc92420>],\n",
       " 'medians': [<matplotlib.lines.Line2D at 0x2816bcddfd0>],\n",
       " 'fliers': [<matplotlib.lines.Line2D at 0x2816bcde5d0>],\n",
       " 'means': []}"
      ]
     },
     "execution_count": 92,
     "metadata": {},
     "output_type": "execute_result"
    },
    {
     "data": {
      "image/png": "[encoded data removed]",
      "text/plain": [
       "<Figure size 640x480 with 1 Axes>"
      ]
     },
     "metadata": {},
     "output_type": "display_data"
    }
   ],
   "source": [
    "plt.boxplot(df[\"fare_amount\"])"
   ]
  },
  {
   "cell_type": "code",
   "execution_count": 93,
   "id": "4f2a0a83-0e48-4f1a-b842-caf87cd47c09",
   "metadata": {},
   "outputs": [],
   "source": [
    "# there are too many outliers in the data, because this is just not \n",
    "# possible for a person to pay $400000 as a fare_amount\n",
    "# we remove them.\n",
    "\n",
    "\n",
    "\n",
    "## we will use interquartile range to remove the outliers"
   ]
  },
  {
   "cell_type": "code",
   "execution_count": 94,
   "id": "f6ed10cb-9255-4378-ab60-f1903f36bce5",
   "metadata": {},
   "outputs": [],
   "source": [
    "for col in [\"fare_amount\" , \"trip_distance\" , \"duration\"]:\n",
    "    q1 = df[col].quantile(0.25)\n",
    "    q3 = df[col].quantile(0.75)\n",
    "    IQR = q3-q1\n",
    "\n",
    "    lower_bound = q1 - 1.5 * IQR\n",
    "    upper_bound = q3 + 1.5 * IQR\n",
    "\n",
    "    df = df[(df[col] >= lower_bound) &\n",
    "    (df[col] <= upper_bound )]"
   ]
  },
  {
   "cell_type": "code",
   "execution_count": 95,
   "id": "88feea3f-7449-4136-889e-1104426208a3",
   "metadata": {},
   "outputs": [
    {
     "data": {
      "text/html": [
       "<div>\n",
       "<style scoped>\n",
       "    .dataframe tbody tr th:only-of-type {\n",
       "        vertical-align: middle;\n",
       "    }\n",
       "\n",
       "    .dataframe tbody tr th {\n",
       "        vertical-align: top;\n",
       "    }\n",
       "\n",
       "    .dataframe thead th {\n",
       "        text-align: right;\n",
       "    }\n",
       "</style>\n",
       "<table border=\"1\" class=\"dataframe\">\n",
       "  <thead>\n",
       "    <tr style=\"text-align: right;\">\n",
       "      <th></th>\n",
       "      <th>passenger_count</th>\n",
       "      <th>payment_type</th>\n",
       "      <th>fare_amount</th>\n",
       "      <th>trip_distance</th>\n",
       "      <th>duration</th>\n",
       "    </tr>\n",
       "  </thead>\n",
       "  <tbody>\n",
       "    <tr>\n",
       "      <th>0</th>\n",
       "      <td>2</td>\n",
       "      <td>Card</td>\n",
       "      <td>12.1</td>\n",
       "      <td>1.51</td>\n",
       "      <td>0 days 00:10:59</td>\n",
       "    </tr>\n",
       "    <tr>\n",
       "      <th>1</th>\n",
       "      <td>1</td>\n",
       "      <td>Card</td>\n",
       "      <td>5.8</td>\n",
       "      <td>0.40</td>\n",
       "      <td>0 days 00:05:01</td>\n",
       "    </tr>\n",
       "    <tr>\n",
       "      <th>3</th>\n",
       "      <td>1</td>\n",
       "      <td>Card</td>\n",
       "      <td>11.4</td>\n",
       "      <td>1.60</td>\n",
       "      <td>0 days 00:12:22</td>\n",
       "    </tr>\n",
       "    <tr>\n",
       "      <th>5</th>\n",
       "      <td>1</td>\n",
       "      <td>Cash</td>\n",
       "      <td>10.7</td>\n",
       "      <td>1.81</td>\n",
       "      <td>0 days 00:07:16</td>\n",
       "    </tr>\n",
       "    <tr>\n",
       "      <th>6</th>\n",
       "      <td>1</td>\n",
       "      <td>Cash</td>\n",
       "      <td>7.2</td>\n",
       "      <td>1.24</td>\n",
       "      <td>0 days 00:03:57</td>\n",
       "    </tr>\n",
       "    <tr>\n",
       "      <th>...</th>\n",
       "      <td>...</td>\n",
       "      <td>...</td>\n",
       "      <td>...</td>\n",
       "      <td>...</td>\n",
       "      <td>...</td>\n",
       "    </tr>\n",
       "    <tr>\n",
       "      <th>34927166</th>\n",
       "      <td>1</td>\n",
       "      <td>Card</td>\n",
       "      <td>6.5</td>\n",
       "      <td>0.62</td>\n",
       "      <td>0 days 00:04:50</td>\n",
       "    </tr>\n",
       "    <tr>\n",
       "      <th>34927167</th>\n",
       "      <td>2</td>\n",
       "      <td>Card</td>\n",
       "      <td>9.3</td>\n",
       "      <td>1.20</td>\n",
       "      <td>0 days 00:07:47</td>\n",
       "    </tr>\n",
       "    <tr>\n",
       "      <th>34927169</th>\n",
       "      <td>1</td>\n",
       "      <td>Cash</td>\n",
       "      <td>19.1</td>\n",
       "      <td>3.33</td>\n",
       "      <td>0 days 00:17:11</td>\n",
       "    </tr>\n",
       "    <tr>\n",
       "      <th>34927171</th>\n",
       "      <td>1</td>\n",
       "      <td>Cash</td>\n",
       "      <td>8.6</td>\n",
       "      <td>1.00</td>\n",
       "      <td>0 days 00:06:38</td>\n",
       "    </tr>\n",
       "    <tr>\n",
       "      <th>34927172</th>\n",
       "      <td>2</td>\n",
       "      <td>Card</td>\n",
       "      <td>9.3</td>\n",
       "      <td>1.41</td>\n",
       "      <td>0 days 00:07:24</td>\n",
       "    </tr>\n",
       "  </tbody>\n",
       "</table>\n",
       "<p>28163751 rows × 5 columns</p>\n",
       "</div>"
      ],
      "text/plain": [
       "          passenger_count payment_type  fare_amount  trip_distance  \\\n",
       "0                       2         Card         12.1           1.51   \n",
       "1                       1         Card          5.8           0.40   \n",
       "3                       1         Card         11.4           1.60   \n",
       "5                       1         Cash         10.7           1.81   \n",
       "6                       1         Cash          7.2           1.24   \n",
       "...                   ...          ...          ...            ...   \n",
       "34927166                1         Card          6.5           0.62   \n",
       "34927167                2         Card          9.3           1.20   \n",
       "34927169                1         Cash         19.1           3.33   \n",
       "34927171                1         Cash          8.6           1.00   \n",
       "34927172                2         Card          9.3           1.41   \n",
       "\n",
       "                duration  \n",
       "0        0 days 00:10:59  \n",
       "1        0 days 00:05:01  \n",
       "3        0 days 00:12:22  \n",
       "5        0 days 00:07:16  \n",
       "6        0 days 00:03:57  \n",
       "...                  ...  \n",
       "34927166 0 days 00:04:50  \n",
       "34927167 0 days 00:07:47  \n",
       "34927169 0 days 00:17:11  \n",
       "34927171 0 days 00:06:38  \n",
       "34927172 0 days 00:07:24  \n",
       "\n",
       "[28163751 rows x 5 columns]"
      ]
     },
     "execution_count": 95,
     "metadata": {},
     "output_type": "execute_result"
    }
   ],
   "source": [
    "df"
   ]
  },
  {
   "cell_type": "code",
   "execution_count": 96,
   "id": "67b28295-6112-4a64-8277-25cccbb19944",
   "metadata": {},
   "outputs": [],
   "source": [
    "# Preference based on trip_distance"
   ]
  },
  {
   "cell_type": "code",
   "execution_count": null,
   "id": "62a238af-e8bd-4ecc-8068-e1bc9d9437e4",
   "metadata": {},
   "outputs": [],
   "source": []
  },
  {
   "cell_type": "code",
   "execution_count": 102,
   "id": "982fa4e7-137b-4f29-9beb-94e40678744c",
   "metadata": {},
   "outputs": [
    {
     "data": {
      "image/png": "[encoded data removed]",
      "text/plain": [
       "<Figure size 1200x500 with 2 Axes>"
      ]
     },
     "metadata": {},
     "output_type": "display_data"
    }
   ],
   "source": [
    "import matplotlib.pyplot as plt\n",
    "import matplotlib.ticker as ticker\n",
    "\n",
    "plt.figure(figsize=(12, 5))\n",
    "\n",
    "# Plot 1: Distribution of fare amount\n",
    "plt.subplot(1, 2, 1)\n",
    "plt.title(\"Distribution of Fare Amount\", fontsize=12, pad=10)\n",
    "plt.hist(df[df[\"payment_type\"] == \"Card\"][\"fare_amount\"], \n",
    "         histtype='barstacked', bins=20, edgecolor=\"k\", \n",
    "         color='#FA643F', label=\"Card\")\n",
    "plt.hist(df[df[\"payment_type\"] == \"Cash\"][\"fare_amount\"], \n",
    "         histtype='barstacked', bins=20, edgecolor=\"k\", \n",
    "         color='#FFBCAB', label=\"Cash\")\n",
    "plt.xlabel(\"Fare Amount ($)\", fontsize=10)\n",
    "plt.ylabel(\"Frequency\", fontsize=10)\n",
    "plt.legend()\n",
    "plt.gca().xaxis.set_major_locator(ticker.MaxNLocator(integer=True))  # Force integer x-axis\n",
    "plt.gca().yaxis.set_major_locator(ticker.MaxNLocator(integer=True))  # Force integer y-axis\n",
    "plt.grid(axis='y', linestyle='--', alpha=0.7)\n",
    "\n",
    "# Plot 2: Distribution of trip distance\n",
    "plt.subplot(1, 2, 2)\n",
    "plt.title(\"Distribution of Trip Distance\", fontsize=12, pad=10)\n",
    "plt.hist(df[df[\"payment_type\"] == \"Card\"][\"trip_distance\"], \n",
    "         histtype='barstacked', bins=20, edgecolor=\"k\", \n",
    "         color='#FA643F', label=\"Card\")\n",
    "plt.hist(df[df[\"payment_type\"] == \"Cash\"][\"trip_distance\"], \n",
    "         histtype='barstacked', bins=20, edgecolor=\"k\", \n",
    "         color='#FFBCAB', label=\"Cash\")\n",
    "plt.xlabel(\"Trip Distance (miles)\", fontsize=10)\n",
    "plt.ylabel(\"Frequency\", fontsize=10)\n",
    "plt.legend()\n",
    "plt.gca().xaxis.set_major_locator(ticker.MaxNLocator(integer=True))  # Force integer x-axis\n",
    "plt.gca().yaxis.set_major_locator(ticker.MaxNLocator(integer=True))  # Force integer y-axis\n",
    "plt.grid(axis='y', linestyle='--', alpha=0.7)\n",
    "\n",
    "plt.tight_layout()  # Prevent overlapping elements\n",
    "plt.show()"
   ]
  },
  {
   "cell_type": "code",
   "execution_count": 103,
   "id": "38474e06-0bfa-4f4c-86dd-91c61dfe5bb7",
   "metadata": {},
   "outputs": [
    {
     "data": {
      "text/html": [
       "<div>\n",
       "<style scoped>\n",
       "    .dataframe tbody tr th:only-of-type {\n",
       "        vertical-align: middle;\n",
       "    }\n",
       "\n",
       "    .dataframe tbody tr th {\n",
       "        vertical-align: top;\n",
       "    }\n",
       "\n",
       "    .dataframe thead tr th {\n",
       "        text-align: left;\n",
       "    }\n",
       "\n",
       "    .dataframe thead tr:last-of-type th {\n",
       "        text-align: right;\n",
       "    }\n",
       "</style>\n",
       "<table border=\"1\" class=\"dataframe\">\n",
       "  <thead>\n",
       "    <tr>\n",
       "      <th></th>\n",
       "      <th colspan=\"2\" halign=\"left\">fare_amount</th>\n",
       "      <th colspan=\"2\" halign=\"left\">trip_distance</th>\n",
       "    </tr>\n",
       "    <tr>\n",
       "      <th></th>\n",
       "      <th>mean</th>\n",
       "      <th>std</th>\n",
       "      <th>mean</th>\n",
       "      <th>std</th>\n",
       "    </tr>\n",
       "    <tr>\n",
       "      <th>payment_type</th>\n",
       "      <th></th>\n",
       "      <th></th>\n",
       "      <th></th>\n",
       "      <th></th>\n",
       "    </tr>\n",
       "  </thead>\n",
       "  <tbody>\n",
       "    <tr>\n",
       "      <th>Card</th>\n",
       "      <td>12.835093</td>\n",
       "      <td>5.340770</td>\n",
       "      <td>1.775891</td>\n",
       "      <td>1.043299</td>\n",
       "    </tr>\n",
       "    <tr>\n",
       "      <th>Cash</th>\n",
       "      <td>12.230583</td>\n",
       "      <td>5.353723</td>\n",
       "      <td>1.632359</td>\n",
       "      <td>1.048686</td>\n",
       "    </tr>\n",
       "  </tbody>\n",
       "</table>\n",
       "</div>"
      ],
      "text/plain": [
       "             fare_amount           trip_distance          \n",
       "                    mean       std          mean       std\n",
       "payment_type                                              \n",
       "Card           12.835093  5.340770      1.775891  1.043299\n",
       "Cash           12.230583  5.353723      1.632359  1.048686"
      ]
     },
     "execution_count": 103,
     "metadata": {},
     "output_type": "execute_result"
    }
   ],
   "source": [
    "df.groupby('payment_type').agg({'fare_amount':['mean','std'], 'trip_distance':['mean','std']})"
   ]
  },
  {
   "cell_type": "code",
   "execution_count": 109,
   "id": "b7b72ab5-7e13-4a67-b3d3-9a08140ac34d",
   "metadata": {},
   "outputs": [
    {
     "data": {
      "image/png": "[encoded data removed]",
      "text/plain": [
       "<Figure size 640x480 with 1 Axes>"
      ]
     },
     "metadata": {},
     "output_type": "display_data"
    }
   ],
   "source": [
    "plt.title('Preference of Payment Type')\n",
    "plt.pie(df[\"payment_type\"].value_counts(normalize = True),labels = df[\"payment_type\"].value_counts().index,\n",
    "        startangle = 90 , shadow = True, autopct = \"%1.1f%%\", colors = [\"#FA643F\" , \"#FFBCAB\"])\n",
    "plt.show()\n",
    "        "
   ]
  },
  {
   "cell_type": "code",
   "execution_count": 110,
   "id": "97f97f5b-495b-4be6-bc24-a9aa1b60bf0a",
   "metadata": {},
   "outputs": [],
   "source": [
    "passenger_count = df.groupby(['payment_type' , 'passenger_count'])[['passenger_count']].count()\n",
    "passenger_count.rename(columns = {'passenger_count':'count'}, inplace = True)\n",
    "passenger_count.reset_index(inplace = True)"
   ]
  },
  {
   "cell_type": "code",
   "execution_count": 113,
   "id": "9773e19b-b380-4323-8647-9b6857fd1e2e",
   "metadata": {},
   "outputs": [],
   "source": [
    "passenger_count['perc'] = (passenger_count['count']/passenger_count['count'].sum()) * 100"
   ]
  },
  {
   "cell_type": "code",
   "execution_count": 115,
   "id": "2945e3e4-6d41-4b57-ac43-6d44bcfee0a6",
   "metadata": {},
   "outputs": [
    {
     "data": {
      "text/html": [
       "<div>\n",
       "<style scoped>\n",
       "    .dataframe tbody tr th:only-of-type {\n",
       "        vertical-align: middle;\n",
       "    }\n",
       "\n",
       "    .dataframe tbody tr th {\n",
       "        vertical-align: top;\n",
       "    }\n",
       "\n",
       "    .dataframe thead th {\n",
       "        text-align: right;\n",
       "    }\n",
       "</style>\n",
       "<table border=\"1\" class=\"dataframe\">\n",
       "  <thead>\n",
       "    <tr style=\"text-align: right;\">\n",
       "      <th></th>\n",
       "      <th>payment_type</th>\n",
       "      <th>passenger_count</th>\n",
       "      <th>count</th>\n",
       "      <th>perc</th>\n",
       "    </tr>\n",
       "  </thead>\n",
       "  <tbody>\n",
       "    <tr>\n",
       "      <th>0</th>\n",
       "      <td>Card</td>\n",
       "      <td>1</td>\n",
       "      <td>18378328</td>\n",
       "      <td>65.255257</td>\n",
       "    </tr>\n",
       "    <tr>\n",
       "      <th>1</th>\n",
       "      <td>Card</td>\n",
       "      <td>2</td>\n",
       "      <td>3399689</td>\n",
       "      <td>12.071151</td>\n",
       "    </tr>\n",
       "    <tr>\n",
       "      <th>2</th>\n",
       "      <td>Card</td>\n",
       "      <td>3</td>\n",
       "      <td>838977</td>\n",
       "      <td>2.978925</td>\n",
       "    </tr>\n",
       "    <tr>\n",
       "      <th>3</th>\n",
       "      <td>Card</td>\n",
       "      <td>4</td>\n",
       "      <td>416955</td>\n",
       "      <td>1.480467</td>\n",
       "    </tr>\n",
       "    <tr>\n",
       "      <th>4</th>\n",
       "      <td>Card</td>\n",
       "      <td>5</td>\n",
       "      <td>320911</td>\n",
       "      <td>1.139447</td>\n",
       "    </tr>\n",
       "    <tr>\n",
       "      <th>5</th>\n",
       "      <td>Cash</td>\n",
       "      <td>1</td>\n",
       "      <td>3580157</td>\n",
       "      <td>12.711932</td>\n",
       "    </tr>\n",
       "    <tr>\n",
       "      <th>6</th>\n",
       "      <td>Cash</td>\n",
       "      <td>2</td>\n",
       "      <td>792929</td>\n",
       "      <td>2.815424</td>\n",
       "    </tr>\n",
       "    <tr>\n",
       "      <th>7</th>\n",
       "      <td>Cash</td>\n",
       "      <td>3</td>\n",
       "      <td>216963</td>\n",
       "      <td>0.770363</td>\n",
       "    </tr>\n",
       "    <tr>\n",
       "      <th>8</th>\n",
       "      <td>Cash</td>\n",
       "      <td>4</td>\n",
       "      <td>150151</td>\n",
       "      <td>0.533136</td>\n",
       "    </tr>\n",
       "    <tr>\n",
       "      <th>9</th>\n",
       "      <td>Cash</td>\n",
       "      <td>5</td>\n",
       "      <td>68691</td>\n",
       "      <td>0.243899</td>\n",
       "    </tr>\n",
       "  </tbody>\n",
       "</table>\n",
       "</div>"
      ],
      "text/plain": [
       "  payment_type  passenger_count     count       perc\n",
       "0         Card                1  18378328  65.255257\n",
       "1         Card                2   3399689  12.071151\n",
       "2         Card                3    838977   2.978925\n",
       "3         Card                4    416955   1.480467\n",
       "4         Card                5    320911   1.139447\n",
       "5         Cash                1   3580157  12.711932\n",
       "6         Cash                2    792929   2.815424\n",
       "7         Cash                3    216963   0.770363\n",
       "8         Cash                4    150151   0.533136\n",
       "9         Cash                5     68691   0.243899"
      ]
     },
     "execution_count": 115,
     "metadata": {},
     "output_type": "execute_result"
    }
   ],
   "source": [
    "passenger_count"
   ]
  },
  {
   "cell_type": "code",
   "execution_count": 117,
   "id": "31c10225-a285-456a-80f0-45476fb13bfa",
   "metadata": {},
   "outputs": [
    {
     "data": {
      "text/html": [
       "<div>\n",
       "<style scoped>\n",
       "    .dataframe tbody tr th:only-of-type {\n",
       "        vertical-align: middle;\n",
       "    }\n",
       "\n",
       "    .dataframe tbody tr th {\n",
       "        vertical-align: top;\n",
       "    }\n",
       "\n",
       "    .dataframe thead th {\n",
       "        text-align: right;\n",
       "    }\n",
       "</style>\n",
       "<table border=\"1\" class=\"dataframe\">\n",
       "  <thead>\n",
       "    <tr style=\"text-align: right;\">\n",
       "      <th></th>\n",
       "      <th>payment_type</th>\n",
       "      <th>1</th>\n",
       "      <th>2</th>\n",
       "      <th>3</th>\n",
       "      <th>4</th>\n",
       "      <th>5</th>\n",
       "    </tr>\n",
       "  </thead>\n",
       "  <tbody>\n",
       "    <tr>\n",
       "      <th>0</th>\n",
       "      <td>Card</td>\n",
       "      <td>65.255257</td>\n",
       "      <td>12.071151</td>\n",
       "      <td>2.978925</td>\n",
       "      <td>1.480467</td>\n",
       "      <td>1.139447</td>\n",
       "    </tr>\n",
       "    <tr>\n",
       "      <th>1</th>\n",
       "      <td>Cash</td>\n",
       "      <td>12.711932</td>\n",
       "      <td>2.815424</td>\n",
       "      <td>0.770363</td>\n",
       "      <td>0.533136</td>\n",
       "      <td>0.243899</td>\n",
       "    </tr>\n",
       "  </tbody>\n",
       "</table>\n",
       "</div>"
      ],
      "text/plain": [
       "  payment_type          1          2         3         4         5\n",
       "0         Card  65.255257  12.071151  2.978925  1.480467  1.139447\n",
       "1         Cash  12.711932   2.815424  0.770363  0.533136  0.243899"
      ]
     },
     "execution_count": 117,
     "metadata": {},
     "output_type": "execute_result"
    }
   ],
   "source": [
    "# we create a custom dataframe to store the values in order to create a stacked barchart\n",
    "\n",
    "new_df = pd.DataFrame(columns = [\"payment_type\",1,2,3,4,5])\n",
    "new_df ['payment_type'] = [\"Card\" , \"Cash\"]\n",
    "new_df .iloc[0,1:] = passenger_count.iloc[0:5,-1]\n",
    "new_df .iloc[1,1:] = passenger_count.iloc[5:,-1]\n",
    "new_df "
   ]
  },
  {
   "cell_type": "code",
   "execution_count": 119,
   "id": "7099ac0a-4009-4207-9231-615e2f74d03d",
   "metadata": {},
   "outputs": [
    {
     "data": {
      "text/plain": [
       "<Axes: ylabel='payment_type'>"
      ]
     },
     "execution_count": 119,
     "metadata": {},
     "output_type": "execute_result"
    },
    {
     "data": {
      "image/png": "[encoded data removed]",
      "text/plain": [
       "<Figure size 640x480 with 1 Axes>"
      ]
     },
     "metadata": {},
     "output_type": "display_data"
    }
   ],
   "source": [
    "new_df.plot(x = \"payment_type\" , kind = \"barh\" ,  stacked = True , color = [\"#FA643F\", \"#FFBCAB\", \"#CBB2B2\", \"#F1F1F1\", \"#FD9F9F\"])"
   ]
  },
  {
   "cell_type": "markdown",
   "id": "50544689-6ba8-4271-a863-fca5911fc262",
   "metadata": {},
   "source": [
    "Null hypothesis : There is no difference in average fare between customers who use credit cards and customers who use cash.\n",
    "\n",
    "Alternative hypothesis :There is a difference in average fare between customers who use credit cards and customers who use cash"
   ]
  },
  {
   "cell_type": "code",
   "execution_count": 122,
   "id": "db39b002-0ed0-4e51-b812-4322d5a8d2e4",
   "metadata": {},
   "outputs": [
    {
     "data": {
      "image/png": "[encoded data removed]",
      "text/plain": [
       "<Figure size 640x480 with 1 Axes>"
      ]
     },
     "metadata": {},
     "output_type": "display_data"
    }
   ],
   "source": [
    "sm.qqplot(df[\"fare_amount\"], line = \"45\")\n",
    "plt.show()"
   ]
  },
  {
   "cell_type": "code",
   "execution_count": 123,
   "id": "eeeaf6b9-b2e8-4f42-ae57-7927a509dfe5",
   "metadata": {},
   "outputs": [],
   "source": [
    "card_sample = df[df['payment_type'] == \"Card\"]['fare_amount']\n",
    "cash_sample = df[df['payment_type'] == \"Cash\"]['fare_amount']"
   ]
  },
  {
   "cell_type": "code",
   "execution_count": 124,
   "id": "b7223e9d-6ab7-4984-b409-d3f09b449103",
   "metadata": {},
   "outputs": [
    {
     "name": "stdout",
     "output_type": "stream",
     "text": [
      "T statistic 225.5759033208643 p-value 0.0\n"
     ]
    }
   ],
   "source": [
    "t_stats , p_value = st.ttest_ind(a = card_sample , b = cash_sample , equal_var = False)\n",
    "print(\"T statistic\" , t_stats , \"p-value\" , p_value)"
   ]
  },
  {
   "cell_type": "code",
   "execution_count": null,
   "id": "d6f41616-3f5c-4e16-a3c6-c6b2a0be19fb",
   "metadata": {},
   "outputs": [],
   "source": []
  }
 ],
 "metadata": {
  "kernelspec": {
   "display_name": "Python 3 (ipykernel)",
   "language": "python",
   "name": "python3"
  },
  "language_info": {
   "codemirror_mode": {
    "name": "ipython",
    "version": 3
   },
   "file_extension": ".py",
   "mimetype": "text/x-python",
   "name": "python",
   "nbconvert_exporter": "python",
   "pygments_lexer": "ipython3",
   "version": "3.12.4"
  }
 },
 "nbformat": 4,
 "nbformat_minor": 5
}
